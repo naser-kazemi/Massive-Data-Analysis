{
 "cells": [
  {
   "cell_type": "markdown",
   "metadata": {
    "id": "5wIe_NNFTYs_"
   },
   "source": [
    "# Data Mining Course Spark Exercise\n",
    "## Sharif University of Technology\n",
    "\n",
    "In this notebook we are going to analyze farsi wikipedia. \n",
    "Outline of the exercise:\n",
    "* Dataset preparation\n",
    "* Preprocessing (25 Points) \n",
    "* Exploration (20 Points) \n",
    "* TF-IDF + Search (55 Points)\n",
    "\n",
    "You should replace the `TODO` parts with your implementation. Remeber that each `TODO` may take multiple lines and you shouldn't limit your self to one-line codes.\n",
    "\n",
    "## Prerequisites\n",
    "You should be faimilar with [tf-idf](https://en.wikipedia.org/wiki/Tf%E2%80%93idf). In this notebook you should use the following formula for tf-idf:\n",
    "$$f_{t,d}/len(d) \\times log(1 + \\frac{N}{n_t})$$\n",
    "\n",
    "## Warning: RDD api only\n",
    "You **can not** use Dataframe, Dataset, mllib, ml, ... apis of spark in this exercise. You should only use the [RDD api](http://spark.apache.org/docs/2.1.0/api/python/pyspark.html#pyspark.RDD)."
   ]
  },
  {
   "cell_type": "markdown",
   "metadata": {
    "id": "mPC8u67dTYtA"
   },
   "source": [
    "# Section 0: Please enter your name below\n",
    "# Name: Naser Kazemi\n",
    "# Student Number: 99102059"
   ]
  },
  {
   "cell_type": "markdown",
   "metadata": {
    "id": "fjLWtOdITYtB"
   },
   "source": [
    "# Section 1: Dataset preparation\n",
    "\n",
    "This section of notebook contains only shell commands. You don't need to completely understand each command or change anything.\n",
    "\n",
    "Please run all the paragraphs sequentially."
   ]
  },
  {
   "cell_type": "code",
   "execution_count": 1,
   "metadata": {
    "colab": {
     "base_uri": "https://localhost:8080/"
    },
    "id": "Ezi5dS6YTYtC",
    "outputId": "1a1c063f-173b-42aa-9ba3-d89d428467d5"
   },
   "outputs": [],
   "source": [
    "! sudo apt-get -y install wget git"
   ]
  },
  {
   "cell_type": "markdown",
   "metadata": {
    "id": "eBbtThFKTYtD"
   },
   "source": [
    "## Download the dump"
   ]
  },
  {
   "cell_type": "code",
   "execution_count": 2,
   "metadata": {
    "colab": {
     "base_uri": "https://localhost:8080/"
    },
    "id": "_W08JzklTYtE",
    "outputId": "873fcfaf-e6c4-4596-d38a-ac837dde4bdd"
   },
   "outputs": [],
   "source": [
    "! wget --no-check-certificate -P.https: // dumps.wikimedia.org / fawiki / latest / fawiki-latest-pages-articles-multistream.xml.bz2"
   ]
  },
  {
   "cell_type": "markdown",
   "metadata": {
    "id": "hP6Q0z6uTYtE"
   },
   "source": [
    "## Extract the dump (this may take a few minutes)"
   ]
  },
  {
   "cell_type": "code",
   "execution_count": 3,
   "metadata": {
    "id": "ZUlUk28VTYtF"
   },
   "outputs": [],
   "source": [
    "! bzip2 -d fawiki-latest-pages-articles-multistream.xml.bz2"
   ]
  },
  {
   "cell_type": "markdown",
   "metadata": {
    "id": "u4DCV5w5TYtF"
   },
   "source": [
    "## Clone git project for converting wikipedia xml dump to json"
   ]
  },
  {
   "cell_type": "code",
   "execution_count": 4,
   "metadata": {
    "id": "2fl4Fm5dTYtF"
   },
   "outputs": [],
   "source": [
    "! pip install wikiextractor"
   ]
  },
  {
   "cell_type": "markdown",
   "metadata": {
    "id": "l0jlwlM9TYtG"
   },
   "source": [
    "## Run the script to convert xml to json (this might take around 30 minutes)"
   ]
  },
  {
   "cell_type": "code",
   "execution_count": 5,
   "metadata": {
    "id": "_PspJR_ATYtG"
   },
   "outputs": [],
   "source": [
    "! python -m wikiextractor.WikiExtractor --json fawiki-latest-pages-articles-multistream.xml"
   ]
  },
  {
   "cell_type": "markdown",
   "metadata": {
    "id": "_NkdMpq4TYtH"
   },
   "source": [
    "## Ensure output files exist"
   ]
  },
  {
   "cell_type": "code",
   "execution_count": 6,
   "metadata": {
    "id": "ONN2PqvlTYtH"
   },
   "outputs": [],
   "source": [
    "! ls text/*/*"
   ]
  },
  {
   "cell_type": "markdown",
   "metadata": {
    "id": "PCPaEaL7TYtH"
   },
   "source": [
    "## Install Pypark & Initialization\n",
    "Uncomment this section if you use google colab or local pc"
   ]
  },
  {
   "cell_type": "code",
   "execution_count": 7,
   "metadata": {
    "id": "isNdHD1HTYtH"
   },
   "outputs": [],
   "source": [
    "! pip install pyspark"
   ]
  },
  {
   "cell_type": "code",
   "execution_count": 1,
   "metadata": {
    "id": "2WQVNsWITYtI"
   },
   "outputs": [
    {
     "name": "stderr",
     "output_type": "stream",
     "text": [
      "Setting default log level to \"WARN\".\n",
      "To adjust logging level use sc.setLogLevel(newLevel). For SparkR, use setLogLevel(newLevel).\n"
     ]
    },
    {
     "name": "stdout",
     "output_type": "stream",
     "text": [
      "22/12/07 05:04:20 WARN NativeCodeLoader: Unable to load native-hadoop library for your platform... using builtin-java classes where applicable\n"
     ]
    }
   ],
   "source": [
    "from pyspark.sql import SparkSession\n",
    "\n",
    "spark = SparkSession.builder.appName(\"MDA_2021\").config(\"spark.driver.memory\", \"32g\").config(\"spark.driver.maxResultSize\", \"0\")\\\n",
    "    .master(\"local[*]\").getOrCreate()\n",
    "\n",
    "sc = spark.sparkContext"
   ]
  },
  {
   "cell_type": "markdown",
   "metadata": {
    "id": "ywInWa6mTYtI"
   },
   "source": [
    "## Reading the data"
   ]
  },
  {
   "cell_type": "code",
   "execution_count": null,
   "metadata": {
    "id": "w-4vcBCBTYtI"
   },
   "outputs": [],
   "source": [
    "articles_rdd = sc.textFile(\"text/*/*\")\n",
    "articles_rdd.take(1)"
   ]
  },
  {
   "cell_type": "markdown",
   "metadata": {
    "id": "8jcfYLmOTYtJ"
   },
   "source": [
    "# Section 2: Preprocessing (25 Points)\n",
    "\n",
    "In this section we will remove useless part (for example /n and /u200c and ...) also find and remove stop words and remove the words with a low count in the corpus"
   ]
  },
  {
   "cell_type": "code",
   "execution_count": 3,
   "metadata": {
    "id": "be6tvT5RTYtJ"
   },
   "outputs": [],
   "source": [
    "import json\n",
    "\n",
    "#TODO: parse the json string\n",
    "json_article_rdd = articles_rdd.map(lambda x: json.loads(x))\n",
    "\n",
    "\n",
    "#TODO: cleansed text\n",
    "\n",
    "junk_chars = ['\\u200c','\\n','(',')','-','.',',',\"<<\",\">>\",'\"',\":\",\"»\",\"«\",\"،\",\n",
    "                  \"[\",\"]\",\"}\",\"{\",\"?\",\"!\",\"@\",\"#\",\"$\",\"&\",\"*\",\"_\",'\"',\">\",\"<\",\"؛\",\n",
    "                  \"/\",'-','%','+','↓','|','\\u200e','\\u202d','\\u202c','=','ـ','\\uf0fc',\n",
    "                  '\\u200f','\\u200d','%',';','°','//','\\u200b','×','.','؟','.','–','۔','\\\\','^']\n",
    "\n",
    "\n",
    "def clean_article(x):\n",
    "    title = x['title']\n",
    "    text = x['text']\n",
    "    \n",
    "    for word in junk_chars:\n",
    "        title = title.replace(word,\" \")\n",
    "    for word in junk_chars:\n",
    "        text = text.replace(word, \" \")\n",
    "    title = title.replace(\"  \", \" \")\n",
    "    text = text.replace(\"  \", \" \")\n",
    "    \n",
    "    x.update({\"title\" : title})\n",
    "    x.update({\"text\" : text})\n",
    "    return x\n",
    "\n",
    "\n",
    "cleansed_articles_rdd = json_article_rdd.map(lambda x: clean_article(x))"
   ]
  },
  {
   "cell_type": "code",
   "execution_count": 4,
   "metadata": {},
   "outputs": [],
   "source": [
    "words_rdd = cleansed_articles_rdd.flatMap(lambda x: (x['title'], x['text'])).flatMap(lambda x: x.split())\n",
    "words_count_rdd =  words_rdd.map(lambda x: (x, 1))\n",
    "words_count = words_count_rdd.reduceByKey(lambda x, y: x + y)"
   ]
  },
  {
   "cell_type": "code",
   "execution_count": 5,
   "metadata": {},
   "outputs": [
    {
     "name": "stderr",
     "output_type": "stream",
     "text": [
      "                                                                                \r"
     ]
    }
   ],
   "source": [
    "words_count_sorted = words_count.map(lambda x : (x[1], x[0])).sortByKey(False)"
   ]
  },
  {
   "cell_type": "code",
   "execution_count": 6,
   "metadata": {},
   "outputs": [
    {
     "name": "stderr",
     "output_type": "stream",
     "text": [
      "                                                                                \r"
     ]
    }
   ],
   "source": [
    "from pyspark import StorageLevel\n",
    "words_count_sorted_persisted = words_count_sorted.persist(StorageLevel.DISK_ONLY)\n",
    "words_count_ls = words_count_sorted_persisted.collect()"
   ]
  },
  {
   "cell_type": "code",
   "execution_count": null,
   "metadata": {},
   "outputs": [
    {
     "name": "stderr",
     "output_type": "stream",
     "text": [
      "                                                                                \r"
     ]
    },
    {
     "data": {
      "text/plain": [
       "[(5120876, 'در'),\n",
       " (4591006, 'و'),\n",
       " (3433832, 'به'),\n",
       " (2987411, 'از'),\n",
       " (2675212, 'است'),\n",
       " (2221258, 'که'),\n",
       " (2070244, 'می'),\n",
       " (1576359, 'این'),\n",
       " (1430832, 'را'),\n",
       " (1399871, 'های'),\n",
       " (1169552, 'با'),\n",
       " (992415, 'یک'),\n",
       " (874804, 'آن'),\n",
       " (869398, 'شده'),\n",
       " (835434, 'سال'),\n",
       " (736733, 'ها'),\n",
       " (698725, 'شد'),\n",
       " (630325, 'بود'),\n",
       " (623209, 'برای'),\n",
       " (546098, 'کرد'),\n",
       " (519684, 'او'),\n",
       " (494635, 'شود'),\n",
       " (439449, 'ای'),\n",
       " (437386, 'دارد'),\n",
       " (369901, 'خود'),\n",
       " (369461, 'بر'),\n",
       " (361958, 'تا'),\n",
       " (350495, 'ایران'),\n",
       " (347286, 'یا'),\n",
       " (333296, 'کند'),\n",
       " (319739, 'واقع'),\n",
       " (300635, 'وی'),\n",
       " (292785, 'عنوان'),\n",
       " (290140, 'فوتبال'),\n",
       " (285060, 'نام'),\n",
       " (276302, 'جمعیت'),\n",
       " (273265, 'قرار'),\n",
       " (260405, 'نیز'),\n",
       " (255049, 'باشد'),\n",
       " (246531, 'فیلم'),\n",
       " (239956, 'کرده'),\n",
       " (239938, 'دو'),\n",
       " (237583, 'نفر'),\n",
       " (231815, 'پس'),\n",
       " (224989, 'بازی'),\n",
       " (218850, 'باشگاه'),\n",
       " (212219, 'شهر'),\n",
       " (211982, 'شهرستان'),\n",
       " (207427, 'استفاده'),\n",
       " (207024, 'بوده'),\n",
       " (206938, 'یکی'),\n",
       " (205607, 'توسط'),\n",
       " (201173, 'اهل'),\n",
       " (196933, 'بخش'),\n",
       " (186968, 'هم'),\n",
       " (182397, 'بین'),\n",
       " (182279, 'همچنین'),\n",
       " (170501, 'استان'),\n",
       " (169402, 'دیگر'),\n",
       " (167729, 'توان'),\n",
       " (166903, 'اس'),\n",
       " (165761, 'آمریکا'),\n",
       " (164015, 'اند'),\n",
       " (163264, 'اما'),\n",
       " (160876, 'هایی'),\n",
       " (159976, 'ملی'),\n",
       " (158477, 'کنند'),\n",
       " (152383, 'کشور'),\n",
       " (150848, 'اشاره'),\n",
       " (150490, 'شرکت'),\n",
       " (145739, 'هر'),\n",
       " (145316, 'مورد'),\n",
       " (145287, 'کار'),\n",
       " (144902, 'میلادی'),\n",
       " (142909, 'ایالات'),\n",
       " (142335, 'متحده'),\n",
       " (139493, 'وجود'),\n",
       " (137792, 'هستند'),\n",
       " (133682, 'صورت'),\n",
       " (130595, 'زادهٔ'),\n",
       " (129345, 'داد'),\n",
       " (127301, 'داشته'),\n",
       " (126788, 'تاریخ'),\n",
       " (126005, 'داشت'),\n",
       " (125612, 'تیم'),\n",
       " (125587, 'زمان'),\n",
       " (125542, 'زبان'),\n",
       " (123293, 'روی'),\n",
       " (122010, 'دست'),\n",
       " (119922, 'پیش'),\n",
       " (117414, 'زیر'),\n",
       " (116708, 'دهد'),\n",
       " (115668, 'داده'),\n",
       " (114888, 'شوند'),\n",
       " (112020, 'روستا'),\n",
       " (111712, 'کردند'),\n",
       " (111222, 'سطح'),\n",
       " (110304, 'گروه'),\n",
       " (109920, 'دانشگاه'),\n",
       " (106427, 'زندگی')]"
      ]
     },
     "execution_count": 7,
     "metadata": {},
     "output_type": "execute_result"
    }
   ],
   "source": [
    "top_100 = words_count_ls[:100]\n",
    "top_100"
   ]
  },
  {
   "cell_type": "code",
   "execution_count": 7,
   "metadata": {},
   "outputs": [],
   "source": [
    "#TODO: complete the list of stopwords based on top 100 common words\n",
    "stopwords = ['', 'خواهد', 'رفت', 'هنوز', 'پيش', 'سال', 'شدن', 'همان', 'دربارهٔ', \n",
    "             'بعدها', 'میآید', 'یکی', 'حالی', 'برخی', 'میشوند', 'وقتی', 'زیر', \n",
    "             'شدند', 'میکرد', 'هنگامی', 'هاي', 'چه', 'بلکه', 'بودند', 'البته', \n",
    "             'می', 'میرسد', 'کرده', 'اوایل', 'شدهاست', 'بودهاست', 'شوند', 'همین', \n",
    "             'اگرچه', 'جایی', 'بوده', 'هر', 'شده', 'بین', 'داد', 'معمولاً', 'درون', \n",
    "             'که', 'اگر', 'منجر', 'طی', 'هم', 'نامهای', 'مثل', 'مانند', 'رسیده', \n",
    "             'دارند', 'ندارد', 'چندین', 'است', 'آمده', 'هستند', 'میتواند', 'را', \n",
    "             'باشند', 'فقط', 'میگیرد', 'براساس', 'بر', 'حتی', 'همچنین', 'رسید', \n",
    "             'این', 'پس', 'کمی', 'داخل', 'دیگری', 'از', 'موجب', 'چنین', 'بعضی', \n",
    "             'همه', 'تر', 'چیزی', 'داشته', 'اما', 'دادند', 'باقی', 'مورد', 'دهد',\n",
    "             'در', 'قابل', 'پی', 'به', 'های', 'مقابل', 'کسی', 'تعدادی', 'کرد',\n",
    "             'یا', 'یافته', 'میدهد', 'اي', 'یکدیگر', 'مدتی', 'یافت', 'دادن',\n",
    "             'میکنند', 'داشت', 'باز', 'نیز', 'سپس', 'خودش', 'میشود', 'جای', 'ولی',\n",
    "             'گرفت', 'گردید', 'روی', 'میرود', 'گفته', 'کردند', 'خود', 'شد', \n",
    "             'کردهاند', 'میکردند', 'هنگام', 'آنان', 'بیش', 'کردن', 'آن', 'سوی', \n",
    "             'گرفتن', 'سایر', 'اغلب', 'نامیده', 'میگردد', 'باشد', 'شدهاند', 'نمود', \n",
    "             'بعد', 'وی', 'مربوط', 'علاوه', 'کاملاً', 'او', 'کنار', 'اینکه', 'تا', \n",
    "             'همراه', 'قرار', 'میگوید', 'گرفته', 'کلی', 'رو', 'میشد', 'و', 'باعث', \n",
    "             'آنجا', 'توسط', 'با', 'مثال', 'داشتند', 'گاهی', 'کردهاست', 'سرانجام', \n",
    "             'آمد', 'دیده', 'وجود', 'برای', 'بودن', 'ها', 'یعنی', 'هایی', 'اند', \n",
    "             'میکند', 'اس', 'بی', 'بود', 'تمامی', 'شود', 'کنند', 'دارد', 'ان', 'اکنون', \n",
    "             'یک', 'بسیاری', 'دیگر', 'شکل', 'حدود', 'ای', 'کند', 'میدهند']\n",
    "\n",
    "\n",
    "def remove_stopwords(article):\n",
    "    title = article['title']\n",
    "    text = article['text']\n",
    "    title = ' '.join([word for word in title.split() if word not in stopwords])\n",
    "    text = ' '.join([word for word in text.split() if word not in stopwords])\n",
    "    article['title'] = title\n",
    "    article['text'] = text\n",
    "    return article\n",
    "    \n",
    "\n",
    "articles_without_stopwords_rdd = cleansed_articles_rdd.map(lambda x: remove_stopwords(x))"
   ]
  },
  {
   "cell_type": "code",
   "execution_count": 8,
   "metadata": {},
   "outputs": [],
   "source": [
    "words_without_stopwords_rdd = articles_without_stopwords_rdd.flatMap(lambda x: (x['title'],\n",
    "                                                                                          x['text'])).flatMap(lambda x: x.split())\n",
    "words_without_stopwords_count_rdd =  words_without_stopwords_rdd.map(lambda x: (x, 1))\n",
    "words_without_stopwords_count = words_without_stopwords_count_rdd.reduceByKey(lambda x, y: x + y)"
   ]
  },
  {
   "cell_type": "code",
   "execution_count": 9,
   "metadata": {},
   "outputs": [
    {
     "name": "stderr",
     "output_type": "stream",
     "text": [
      "                                                                                \r"
     ]
    }
   ],
   "source": [
    "words_without_stopwords_count_persisted = words_without_stopwords_count.persist(StorageLevel.DISK_ONLY)\n",
    "words_count_sorted_rdd = words_without_stopwords_count_persisted.map(lambda x : (x[1], x[0])).sortByKey(False)\n",
    "words_count_sorted_rdd_persisted = words_count_sorted_rdd.persist(StorageLevel.DISK_ONLY)\n",
    "words_count_ls = words_count_sorted_rdd.collect()"
   ]
  },
  {
   "cell_type": "code",
   "execution_count": 10,
   "metadata": {},
   "outputs": [
    {
     "name": "stderr",
     "output_type": "stream",
     "text": [
      "                                                                                \r"
     ]
    },
    {
     "data": {
      "text/plain": [
       "[(350495, 'ایران'),\n",
       " (319739, 'واقع'),\n",
       " (292785, 'عنوان'),\n",
       " (290140, 'فوتبال'),\n",
       " (285060, 'نام'),\n",
       " (276302, 'جمعیت'),\n",
       " (246531, 'فیلم'),\n",
       " (239938, 'دو'),\n",
       " (237583, 'نفر'),\n",
       " (224989, 'بازی'),\n",
       " (218850, 'باشگاه'),\n",
       " (212219, 'شهر'),\n",
       " (211982, 'شهرستان'),\n",
       " (207427, 'استفاده'),\n",
       " (201173, 'اهل'),\n",
       " (196933, 'بخش'),\n",
       " (170501, 'استان'),\n",
       " (167729, 'توان'),\n",
       " (165761, 'آمریکا'),\n",
       " (159976, 'ملی'),\n",
       " (152383, 'کشور'),\n",
       " (150848, 'اشاره'),\n",
       " (150490, 'شرکت'),\n",
       " (145287, 'کار'),\n",
       " (144902, 'میلادی'),\n",
       " (142909, 'ایالات'),\n",
       " (142335, 'متحده'),\n",
       " (133682, 'صورت'),\n",
       " (130595, 'زادهٔ'),\n",
       " (126788, 'تاریخ'),\n",
       " (125612, 'تیم'),\n",
       " (125587, 'زمان'),\n",
       " (125542, 'زبان'),\n",
       " (122010, 'دست'),\n",
       " (119922, 'پیش'),\n",
       " (115668, 'داده'),\n",
       " (112020, 'روستا'),\n",
       " (111222, 'سطح'),\n",
       " (110304, 'گروه'),\n",
       " (109920, 'دانشگاه'),\n",
       " (106427, 'زندگی'),\n",
       " (104970, 'کتاب'),\n",
       " (103150, 'متر'),\n",
       " (101188, 'انجام'),\n",
       " (99806, 'دوره'),\n",
       " (99767, 'سه'),\n",
       " (99454, 'جنگ'),\n",
       " (98227, 'بازیکن'),\n",
       " (97251, 'بزرگ'),\n",
       " (97049, 'مرکز'),\n",
       " (96804, 'طور'),\n",
       " (95466, 'نقش'),\n",
       " (95019, 'منطقه'),\n",
       " (94371, 'دارای'),\n",
       " (93381, 'نظر'),\n",
       " (93027, 'انگلیسی'),\n",
       " (91559, 'دهستان'),\n",
       " (91004, 'مسکونی'),\n",
       " (90651, 'ترین'),\n",
       " (89339, 'بیشتر'),\n",
       " (89098, 'طول'),\n",
       " (88803, 'اولین'),\n",
       " (88780, 'آب'),\n",
       " (87973, 'حال'),\n",
       " (86926, 'برنامه'),\n",
       " (86796, 'منطقهٔ'),\n",
       " (85013, 'ام'),\n",
       " (84966, 'اصلی'),\n",
       " (83809, 'فعالیت'),\n",
       " (83626, 'تولید'),\n",
       " (82823, 'سرشماری'),\n",
       " (81835, 'روز'),\n",
       " (81616, 'اثر'),\n",
       " (81441, 'بار'),\n",
       " (81133, 'منتشر'),\n",
       " (81022, 'سیارک'),\n",
       " (80907, 'بسیار'),\n",
       " (80076, 'آنها'),\n",
       " (79871, 'راه'),\n",
       " (79709, 'جمهوری'),\n",
       " (79644, 'نمی'),\n",
       " (79583, 'شامل'),\n",
       " (79418, '۱'),\n",
       " (78879, 'مرکزی'),\n",
       " (78811, 'دوم'),\n",
       " (78683, '۲'),\n",
       " (78266, 'نشان'),\n",
       " (78175, 'دلیل'),\n",
       " (78141, 'ساخته'),\n",
       " (77004, 'آباد'),\n",
       " (76904, 'میان'),\n",
       " (76703, 'مردم'),\n",
       " (75305, 'مجموعه'),\n",
       " (75132, 'دولت'),\n",
       " (74564, 'جهان'),\n",
       " (74417, 'دی'),\n",
       " (74184, 'ایجاد'),\n",
       " (74014, 'اول'),\n",
       " (73722, 'گونه'),\n",
       " (73690, 'زمین')]"
      ]
     },
     "execution_count": 10,
     "metadata": {},
     "output_type": "execute_result"
    }
   ],
   "source": [
    "top_100 = words_count_ls[:100]\n",
    "top_100"
   ]
  },
  {
   "cell_type": "code",
   "execution_count": 10,
   "metadata": {},
   "outputs": [
    {
     "name": "stderr",
     "output_type": "stream",
     "text": [
      "                                                                                \r"
     ]
    }
   ],
   "source": [
    "MIN_COUNT = 20\n",
    "uncommon_words =  words_count_sorted_rdd.filter(lambda x: x[0] < MIN_COUNT).map(lambda x: x[1]).collect()"
   ]
  },
  {
   "cell_type": "code",
   "execution_count": 11,
   "metadata": {},
   "outputs": [
    {
     "name": "stderr",
     "output_type": "stream",
     "text": [
      "                                                                                \r"
     ]
    }
   ],
   "source": [
    "common_words =  words_count_sorted_rdd.filter(lambda x: x[0] >= MIN_COUNT).map(lambda x: x[1]).collect()"
   ]
  },
  {
   "cell_type": "code",
   "execution_count": 12,
   "metadata": {},
   "outputs": [],
   "source": [
    "#TODO: remove uncommon words from articles_without_stopwords_rdd\n",
    "\n",
    "def word_hash(word, mod):\n",
    "    tmp = 0\n",
    "    for w in word:\n",
    "        tmp += ord(w)\n",
    "    tmp *= len(word)\n",
    "    return tmp % mod\n",
    "    \n",
    "\n",
    "bucket_size = 1000\n",
    "hashed_words = [[] for _ in range(bucket_size)]\n",
    "for word in common_words:\n",
    "    hashed_words[word_hash(word, bucket_size)].append(word)\n",
    "\n",
    "\n",
    "def remove_uncommon_words(article):\n",
    "    title = article['title']\n",
    "    text = article['text']\n",
    "    \n",
    "    title_words = [word for word in title.split() if word != '' and word in hashed_words[word_hash(word, bucket_size)]]\n",
    "    text_words = [word for word in text.split() if word != '' and word in hashed_words[word_hash(word, bucket_size)]]\n",
    "    \n",
    "    article['title'] = ' '.join(title_words)\n",
    "    article['text'] = ' '.join(text_words)\n",
    "    return article"
   ]
  },
  {
   "cell_type": "code",
   "execution_count": 13,
   "metadata": {},
   "outputs": [
    {
     "name": "stderr",
     "output_type": "stream",
     "text": [
      "                                                                                \r"
     ]
    }
   ],
   "source": [
    "articles_cleaned_rdd = articles_without_stopwords_rdd.map(lambda x: remove_uncommon_words(x))\n",
    "articles_cleaned_rdd_persisted = articles_cleaned_rdd.persist(StorageLevel.DISK_ONLY)\n",
    "articles_cleaned = articles_cleaned_rdd_persisted.collect()"
   ]
  },
  {
   "cell_type": "markdown",
   "metadata": {
    "id": "79dgk7QHTYtK"
   },
   "source": [
    "# Section 3: Exploration (20 Points)\n",
    "Please answer the following questions regarding the dataset:"
   ]
  },
  {
   "cell_type": "markdown",
   "metadata": {},
   "source": [
    "* How many unique 3-Letter words remain after the cleaning procedure?"
   ]
  },
  {
   "cell_type": "code",
   "execution_count": 14,
   "metadata": {},
   "outputs": [],
   "source": [
    "words_cleaned_rdd = articles_cleaned_rdd_persisted.flatMap(lambda x: (x['title'], x['text'])).flatMap(lambda x: x.split())"
   ]
  },
  {
   "cell_type": "code",
   "execution_count": 16,
   "metadata": {},
   "outputs": [
    {
     "name": "stderr",
     "output_type": "stream",
     "text": [
      "                                                                                \r"
     ]
    },
    {
     "data": {
      "text/plain": [
       "9495"
      ]
     },
     "execution_count": 16,
     "metadata": {},
     "output_type": "execute_result"
    }
   ],
   "source": [
    "words_cleaned_rdd.filter(lambda x: len(x) == 3).distinct().count()"
   ]
  },
  {
   "cell_type": "markdown",
   "metadata": {},
   "source": [
    "* What are the top 20 most common English trigrams in the corpus?"
   ]
  },
  {
   "cell_type": "code",
   "execution_count": 15,
   "metadata": {},
   "outputs": [
    {
     "name": "stderr",
     "output_type": "stream",
     "text": [
      "                                                                                \r"
     ]
    }
   ],
   "source": [
    "def trigram(text):\n",
    "    words = text.split()\n",
    "    trigrams = []\n",
    "    for i in range(len(words) - 2):\n",
    "        trigrams.append((words[i], words[i+1], words[i+2]))\n",
    "    return trigrams\n",
    "\n",
    "\n",
    "def is_english(words):\n",
    "    for word in words:\n",
    "        try:\n",
    "            word.encode(encoding='utf-8').decode('ascii')\n",
    "        except UnicodeDecodeError:\n",
    "            return False\n",
    "    return True\n",
    "\n",
    "\n",
    "\n",
    "english_trigrams_rdd = articles_cleaned_rdd_persisted.flatMap(lambda x: (x['title'], x['text'])).flatMap(lambda x: trigram(x))\\\n",
    "    .filter(lambda x: is_english(x))\n",
    "english_trigrams_rdd_persisted = english_trigrams_rdd.persist(StorageLevel.DISK_ONLY)\n",
    "english_trigrams = english_trigrams_rdd_persisted.collect()\n"
   ]
  },
  {
   "cell_type": "code",
   "execution_count": null,
   "metadata": {},
   "outputs": [],
   "source": [
    "english_trigrams_count_rdd = english_trigrams_rdd_persisted.map(lambda x: (x, 1))\n",
    "english_trigrams_count_rdd_persisted = english_trigrams_count_rdd.persist(StorageLevel.DISK_ONLY)\n",
    "english_trigrams_count = english_trigrams_count_rdd_persisted.reduceByKey(lambda x, y: x + y).sortBy(lambda x: x[1], False).collect()"
   ]
  },
  {
   "cell_type": "code",
   "execution_count": 18,
   "metadata": {},
   "outputs": [
    {
     "name": "stderr",
     "output_type": "stream",
     "text": [
      "                                                                                \r"
     ]
    },
    {
     "data": {
      "text/plain": [
       "[(('en', 'wikipedia', 'org'), 4796),\n",
       " (('http', 'en', 'wikipedia'), 3722),\n",
       " (('The', 'Free', 'Encyclopedia'), 3645),\n",
       " (('Wikipedia', 'The', 'Free'), 3645),\n",
       " (('w', 'index', 'php'), 3471),\n",
       " (('org', 'w', 'index'), 3470),\n",
       " (('wikipedia', 'org', 'w'), 3470),\n",
       " (('index', 'php', 'title'), 3456),\n",
       " (('Free', 'Encyclopedia', 'http'), 2814),\n",
       " (('Encyclopedia', 'http', 'en'), 2809),\n",
       " (('amp', 'oldid', 'accessed'), 2468),\n",
       " ((\"women's\", 'national', 'under'), 1893),\n",
       " (('wikipedia', 'org', 'wiki'), 1571),\n",
       " (('gt', 'lt', 'contributor'), 1254),\n",
       " (('contributor', 'gt', 'lt'), 1254),\n",
       " (('lt', 'ns', 'gt'), 1254),\n",
       " (('lt', 'timestamp', 'gt'), 1254),\n",
       " (('lt', 'contributor', 'gt'), 1254),\n",
       " (('lt', 'model', 'gt'), 1252),\n",
       " (('lt', 'format', 'gt'), 1252)]"
      ]
     },
     "execution_count": 18,
     "metadata": {},
     "output_type": "execute_result"
    }
   ],
   "source": [
    "\n",
    "top_20 = english_trigrams_count[:20]\n",
    "top_20"
   ]
  },
  {
   "cell_type": "markdown",
   "metadata": {},
   "source": [
    "* Plot a distribution from document lengths using appropriate bin sizes with 100 bins"
   ]
  },
  {
   "cell_type": "code",
   "execution_count": null,
   "metadata": {},
   "outputs": [],
   "source": [
    "documents_lengths_rdd = articles_cleaned_rdd_persisted.map(lambda x: (x, len(x['text'].split()))).sortBy(lambda x: x[1], False)\n",
    "documents_lengths_persisted = documents_lengths_rdd.persist(StorageLevel.DISK_ONLY)\n",
    "documents_length = documents_lengths_persisted.collect()"
   ]
  },
  {
   "cell_type": "code",
   "execution_count": 19,
   "metadata": {},
   "outputs": [
    {
     "data": {
      "image/png": "[encoded data removed]",
      "text/plain": [
       "<Figure size 640x480 with 1 Axes>"
      ]
     },
     "metadata": {},
     "output_type": "display_data"
    }
   ],
   "source": [
    "import matplotlib.pyplot as plt\n",
    "\n",
    "plt.hist([x[1] for x in documents_length], bins=list(range(0, 500, 5)))\n",
    "\n",
    "plt.xlabel('Document Length')\n",
    "plt.ylabel('Number of Documents')\n",
    "\n",
    "plt.show()"
   ]
  },
  {
   "cell_type": "markdown",
   "metadata": {},
   "source": [
    "* What are the titles and urls of the 5 longest articles? "
   ]
  },
  {
   "cell_type": "code",
   "execution_count": 20,
   "metadata": {},
   "outputs": [
    {
     "name": "stdout",
     "output_type": "stream",
     "text": [
      "document title: نادرشاه\n",
      "document length: 14294\n",
      "document URL: https://fa.wikipedia.org/wiki?curid=10787\n",
      "\n",
      "**************\n",
      "\n",
      "document title: جمهوری وایمار\n",
      "document length: 12704\n",
      "document URL: https://fa.wikipedia.org/wiki?curid=26519\n",
      "\n",
      "**************\n",
      "\n",
      "document title: حافظ\n",
      "document length: 12657\n",
      "document URL: https://fa.wikipedia.org/wiki?curid=44114\n",
      "\n",
      "**************\n",
      "\n",
      "document title: اسلام\n",
      "document length: 12220\n",
      "document URL: https://fa.wikipedia.org/wiki?curid=1567\n",
      "\n",
      "**************\n",
      "\n",
      "document title: اسلام\n",
      "document length: 12220\n",
      "document URL: https://fa.wikipedia.org/wiki?curid=1567\n",
      "\n",
      "**************\n",
      "\n"
     ]
    }
   ],
   "source": [
    "top_5 = documents_length[:5]\n",
    "for doc in top_5:\n",
    "    print(f'document title: {doc[0][\"title\"]}')\n",
    "    print(f'document length: {doc[1]}')\n",
    "    print(f'document URL: {doc[0][\"url\"]}')\n",
    "    print('\\n**************\\n')"
   ]
  },
  {
   "cell_type": "markdown",
   "metadata": {
    "id": "JS2K-g_4TYtK"
   },
   "source": [
    "# Section 4: TF-IDF + Searching (55 Points)"
   ]
  },
  {
   "cell_type": "code",
   "execution_count": 16,
   "metadata": {},
   "outputs": [
    {
     "name": "stderr",
     "output_type": "stream",
     "text": [
      "                                                                                \r"
     ]
    }
   ],
   "source": [
    "#TODO: calculate document frequncy for each word\n",
    "word_df_rdd = articles_cleaned_rdd_persisted.flatMap(lambda x: [((x['id'], word), 1) for word in x['text'].split()])\n",
    "# doc -> ((doc_id, word), 1)\n",
    "word_df_rdd_persisted = word_df_rdd.persist(StorageLevel.DISK_ONLY)\n",
    "word_df_reduced_rdd = word_df_rdd_persisted.reduceByKey(lambda x, y: x + y)\n",
    "# doc -> ((doc_id, word), df)\n",
    "word_df_reduced_rdd_persisted = word_df_reduced_rdd.persist(StorageLevel.DISK_ONLY)\n",
    "word_df = word_df_reduced_rdd_persisted.collect()"
   ]
  },
  {
   "cell_type": "code",
   "execution_count": null,
   "metadata": {},
   "outputs": [],
   "source": [
    "# (word, (doc_id, df))\n",
    "tf_rdd = word_df_reduced_rdd_persisted.map(lambda x: (x[0][1],(x[0][0],x[1])))\n",
    "tf_rdd_persisted = tf_rdd.persist(StorageLevel.DISK_ONLY)\n",
    "tf_rdd_persisted.collect()"
   ]
  },
  {
   "cell_type": "code",
   "execution_count": null,
   "metadata": {},
   "outputs": [],
   "source": [
    "# (word, (doc_id, df, 1))\n",
    "idf_rdd = word_df_reduced_rdd_persisted.map(lambda x: (x[0][1], (x[0][0], x[1], 1)))\n",
    "idf_rdd_persisted = idf_rdd.persist(StorageLevel.DISK_ONLY)\n",
    "idf_rdd_persisted.collect()"
   ]
  },
  {
   "cell_type": "code",
   "execution_count": 19,
   "metadata": {},
   "outputs": [
    {
     "name": "stderr",
     "output_type": "stream",
     "text": [
      "                                                                                \r"
     ]
    }
   ],
   "source": [
    "word_freq_rdd = idf_rdd_persisted.map(lambda x: (x[0], x[1][2])).reduceByKey(lambda x, y: x + y)\n",
    "word_freq_rdd_persisted = word_freq_rdd.persist(StorageLevel.DISK_ONLY)\n",
    "word_freq = word_freq_rdd_persisted.collect()"
   ]
  },
  {
   "cell_type": "code",
   "execution_count": 20,
   "metadata": {},
   "outputs": [],
   "source": [
    "import math"
   ]
  },
  {
   "cell_type": "code",
   "execution_count": null,
   "metadata": {},
   "outputs": [],
   "source": [
    "N = len(articles_cleaned)\n",
    "idf_rdd = word_freq_rdd_persisted.map(lambda x: (x[0], math.log(1 + N / x[1])))\n",
    "idf_rdd_persisted = idf_rdd.persist(StorageLevel.DISK_ONLY)\n",
    "idf_rdd_persisted.collect()"
   ]
  },
  {
   "cell_type": "code",
   "execution_count": null,
   "metadata": {},
   "outputs": [],
   "source": [
    "tf_idf_rdd = tf_rdd_persisted.join(idf_rdd_persisted)\n",
    "tf_idf_rdd_persisted = tf_idf_rdd.persist(StorageLevel.DISK_ONLY)\n",
    "tf_idf_rdd_persisted.collect()"
   ]
  },
  {
   "cell_type": "code",
   "execution_count": null,
   "metadata": {},
   "outputs": [],
   "source": [
    "tf_idf_result_rdd = tf_idf_rdd_persisted.map(lambda x: (x[1][0][0],(x[0],x[1][0][1],x[1][1],x[1][0][1]*x[1][1]))).sortByKey()\n",
    "tf_idf_result_rdd_persisted = tf_idf_result_rdd.persist(StorageLevel.DISK_ONLY)\n",
    "tf_idf_result = tf_idf_result_rdd_persisted.collect()"
   ]
  },
  {
   "cell_type": "code",
   "execution_count": 24,
   "metadata": {},
   "outputs": [
    {
     "data": {
      "text/plain": [
       "[('100011', ('دقیقی', 3, 7.571362789061969, 22.71408836718591)),\n",
       " ('100011', ('جانشین', 1, 6.236344592391012, 6.236344592391012))]"
      ]
     },
     "execution_count": 24,
     "metadata": {},
     "output_type": "execute_result"
    }
   ],
   "source": [
    "# (doc_id, (word, tf, idf, tf_idf))\n",
    "tf_idf_result[:2]"
   ]
  },
  {
   "cell_type": "code",
   "execution_count": 25,
   "metadata": {
    "id": "FsJEBmbrTYtK"
   },
   "outputs": [
    {
     "name": "stderr",
     "output_type": "stream",
     "text": [
      "                                                                                \r"
     ]
    }
   ],
   "source": [
    "#TODO: add `vector` key to articles_cleaned_rdd dictionary with the tf_idf dictionary\n",
    "articles_tf_idf_vectors = tf_idf_result_rdd_persisted.map(lambda x: (x[0], {x[1][0]: x[1][3]})).reduceByKey(lambda x, y: {**x, **y}).collect()\n",
    "articles_tf_idf_vectors = {x[0]: x[1] for x in articles_tf_idf_vectors}\n",
    "\n",
    "def add_tf_idf_vector(article):\n",
    "    article['vector'] = articles_tf_idf_vectors.get(article['id'], [])\n",
    "    return article\n",
    "    \n",
    "articles_cleaned_rdd = articles_cleaned_rdd.map(lambda x: add_tf_idf_vector(x))"
   ]
  },
  {
   "cell_type": "markdown",
   "metadata": {},
   "source": [
    "* How many and what percentage of articles contain these words? [History, Politics, Medicine, Law, Economics, Engineering]"
   ]
  },
  {
   "cell_type": "code",
   "execution_count": null,
   "metadata": {},
   "outputs": [],
   "source": [
    "# How many and what percentage of articles contain these words? [History, Politics, Medicine, Law, Economics, Engineering]\n",
    "topics = ['تاریخ', 'سیاست', 'پزشکی', 'قانون', 'اقتصاد', 'مهندسی']\n",
    "articles_with_topic_rdd = tf_rdd_persisted.filter(lambda x: x[0] in topics)\n",
    "articles_with_topic = articles_with_topic_rdd.collect()"
   ]
  },
  {
   "cell_type": "code",
   "execution_count": null,
   "metadata": {},
   "outputs": [
    {
     "name": "stderr",
     "output_type": "stream",
     "text": [
      "                                                                                \r"
     ]
    },
    {
     "data": {
      "text/plain": [
       "[('سیاست', 143),\n",
       " ('اقتصاد', 92),\n",
       " ('مهندسی', 134),\n",
       " ('قانون', 195),\n",
       " ('تاریخ', 693),\n",
       " ('پزشکی', 136)]"
      ]
     },
     "execution_count": 76,
     "metadata": {},
     "output_type": "execute_result"
    }
   ],
   "source": [
    "topic_count = articles_with_topic_rdd.map(lambda x: (x[0], x[1][1])).reduceByKey(lambda x, y: x + y).collect()\n",
    "topic_count"
   ]
  },
  {
   "cell_type": "code",
   "execution_count": null,
   "metadata": {},
   "outputs": [],
   "source": [
    "topic_with_ariticles_id = articles_with_topic_rdd.map(lambda x: (x[0], x[1][0])).groupByKey().mapValues(list).collect()\n",
    "topics_dict = {x[0]: x[1] for x in topic_with_ariticles_id}\n",
    "topics_dict"
   ]
  },
  {
   "cell_type": "markdown",
   "metadata": {
    "id": "UZn3_bnLTYtL"
   },
   "source": [
    "## Searching\n",
    "In this section you should find articles that are about the topics mentioned in the last part of the third section.\n",
    "Report the percentage of articles that are about the mentioned topics, for example, report what percentage of the articles were about history?\n",
    "For each topic, report two of the most relevant articles along with the title and the url.\n",
    "Check this part in **theory** before practical implementation (Hint: Use the concept of tf-idf).\n",
    "All innovative solutions are also welcome. Compare the obtained results with the third part."
   ]
  },
  {
   "cell_type": "code",
   "execution_count": null,
   "metadata": {},
   "outputs": [],
   "source": [
    "docs = []\n",
    "for topic in topics_dict.keys():\n",
    "    docs.extend(topics_dict[topic])\n",
    "docs = set(docs)\n",
    "    "
   ]
  },
  {
   "cell_type": "code",
   "execution_count": null,
   "metadata": {},
   "outputs": [],
   "source": [
    "articles_with_topics_rdd = articles_cleaned_rdd.filter(lambda x: x['id'] in docs)\n",
    "articles_with_topics = articles_with_topics_rdd.collect()"
   ]
  },
  {
   "cell_type": "code",
   "execution_count": null,
   "metadata": {},
   "outputs": [
    {
     "name": "stderr",
     "output_type": "stream",
     "text": [
      "                                                                                \r"
     ]
    }
   ],
   "source": [
    "words = word_df_reduced_rdd.map(lambda x: x[0][1]).collect()\n",
    "words_tf_idf = {x: 0 for x in words}\n",
    "def assign_tf_idf_to_words(article):\n",
    "    tmp = words_tf_idf.copy()\n",
    "    tmp.update(article['vector'])\n",
    "    article['vector'] = tmp\n",
    "    return (article['id'], article['vector'])\n",
    "\n",
    "tf_idf_matrix_rdd = articles_with_topics_rdd.map(lambda x: assign_tf_idf_to_words(x))\n",
    "tf_idf_matrix = tf_idf_matrix_rdd.collect()"
   ]
  },
  {
   "cell_type": "code",
   "execution_count": null,
   "metadata": {},
   "outputs": [
    {
     "data": {
      "text/html": [
       "<div>\n",
       "<style scoped>\n",
       "    .dataframe tbody tr th:only-of-type {\n",
       "        vertical-align: middle;\n",
       "    }\n",
       "\n",
       "    .dataframe tbody tr th {\n",
       "        vertical-align: top;\n",
       "    }\n",
       "\n",
       "    .dataframe thead th {\n",
       "        text-align: right;\n",
       "    }\n",
       "</style>\n",
       "<table border=\"1\" class=\"dataframe\">\n",
       "  <thead>\n",
       "    <tr style=\"text-align: right;\">\n",
       "      <th></th>\n",
       "      <th>ژول</th>\n",
       "      <th>سالانه</th>\n",
       "      <th>ارتفاع</th>\n",
       "      <th>شرح</th>\n",
       "      <th>زمین</th>\n",
       "      <th>دم</th>\n",
       "      <th>کشور</th>\n",
       "      <th>نوشته</th>\n",
       "      <th>رهبری</th>\n",
       "      <th>باستان</th>\n",
       "      <th>...</th>\n",
       "      <th>گزش</th>\n",
       "      <th>کلیتوریس</th>\n",
       "      <th>هرثمه</th>\n",
       "      <th>وینچستر</th>\n",
       "      <th>وینوکوروف</th>\n",
       "      <th>کیدز</th>\n",
       "      <th>گلنس</th>\n",
       "      <th>فیروزجا</th>\n",
       "      <th>کاشفی</th>\n",
       "      <th>کلمسون</th>\n",
       "    </tr>\n",
       "    <tr>\n",
       "      <th>id</th>\n",
       "      <th></th>\n",
       "      <th></th>\n",
       "      <th></th>\n",
       "      <th></th>\n",
       "      <th></th>\n",
       "      <th></th>\n",
       "      <th></th>\n",
       "      <th></th>\n",
       "      <th></th>\n",
       "      <th></th>\n",
       "      <th></th>\n",
       "      <th></th>\n",
       "      <th></th>\n",
       "      <th></th>\n",
       "      <th></th>\n",
       "      <th></th>\n",
       "      <th></th>\n",
       "      <th></th>\n",
       "      <th></th>\n",
       "      <th></th>\n",
       "      <th></th>\n",
       "    </tr>\n",
       "  </thead>\n",
       "  <tbody>\n",
       "    <tr>\n",
       "      <th>2269</th>\n",
       "      <td>0.0</td>\n",
       "      <td>0.000000</td>\n",
       "      <td>0.000000</td>\n",
       "      <td>0.000000</td>\n",
       "      <td>14.141219</td>\n",
       "      <td>0.0</td>\n",
       "      <td>3.438098</td>\n",
       "      <td>0.000000</td>\n",
       "      <td>5.737575</td>\n",
       "      <td>0.000000</td>\n",
       "      <td>...</td>\n",
       "      <td>0.0</td>\n",
       "      <td>0.0</td>\n",
       "      <td>0.0</td>\n",
       "      <td>0.0</td>\n",
       "      <td>0.0</td>\n",
       "      <td>0.0</td>\n",
       "      <td>0.0</td>\n",
       "      <td>0.0</td>\n",
       "      <td>0.0</td>\n",
       "      <td>0.0</td>\n",
       "    </tr>\n",
       "    <tr>\n",
       "      <th>2603</th>\n",
       "      <td>0.0</td>\n",
       "      <td>25.628668</td>\n",
       "      <td>0.000000</td>\n",
       "      <td>5.164715</td>\n",
       "      <td>28.282439</td>\n",
       "      <td>0.0</td>\n",
       "      <td>147.838226</td>\n",
       "      <td>4.595333</td>\n",
       "      <td>0.000000</td>\n",
       "      <td>11.039347</td>\n",
       "      <td>...</td>\n",
       "      <td>0.0</td>\n",
       "      <td>0.0</td>\n",
       "      <td>0.0</td>\n",
       "      <td>0.0</td>\n",
       "      <td>0.0</td>\n",
       "      <td>0.0</td>\n",
       "      <td>0.0</td>\n",
       "      <td>0.0</td>\n",
       "      <td>0.0</td>\n",
       "      <td>0.0</td>\n",
       "    </tr>\n",
       "    <tr>\n",
       "      <th>3220</th>\n",
       "      <td>0.0</td>\n",
       "      <td>6.407167</td>\n",
       "      <td>0.000000</td>\n",
       "      <td>0.000000</td>\n",
       "      <td>4.713740</td>\n",
       "      <td>0.0</td>\n",
       "      <td>10.314295</td>\n",
       "      <td>4.595333</td>\n",
       "      <td>0.000000</td>\n",
       "      <td>16.559021</td>\n",
       "      <td>...</td>\n",
       "      <td>0.0</td>\n",
       "      <td>0.0</td>\n",
       "      <td>0.0</td>\n",
       "      <td>0.0</td>\n",
       "      <td>0.0</td>\n",
       "      <td>0.0</td>\n",
       "      <td>0.0</td>\n",
       "      <td>0.0</td>\n",
       "      <td>0.0</td>\n",
       "      <td>0.0</td>\n",
       "    </tr>\n",
       "    <tr>\n",
       "      <th>3345</th>\n",
       "      <td>0.0</td>\n",
       "      <td>0.000000</td>\n",
       "      <td>0.000000</td>\n",
       "      <td>0.000000</td>\n",
       "      <td>0.000000</td>\n",
       "      <td>0.0</td>\n",
       "      <td>0.000000</td>\n",
       "      <td>9.190666</td>\n",
       "      <td>0.000000</td>\n",
       "      <td>5.519674</td>\n",
       "      <td>...</td>\n",
       "      <td>0.0</td>\n",
       "      <td>0.0</td>\n",
       "      <td>0.0</td>\n",
       "      <td>0.0</td>\n",
       "      <td>0.0</td>\n",
       "      <td>0.0</td>\n",
       "      <td>0.0</td>\n",
       "      <td>0.0</td>\n",
       "      <td>0.0</td>\n",
       "      <td>0.0</td>\n",
       "    </tr>\n",
       "    <tr>\n",
       "      <th>4094</th>\n",
       "      <td>0.0</td>\n",
       "      <td>0.000000</td>\n",
       "      <td>14.071269</td>\n",
       "      <td>5.164715</td>\n",
       "      <td>28.282439</td>\n",
       "      <td>0.0</td>\n",
       "      <td>79.076260</td>\n",
       "      <td>13.786000</td>\n",
       "      <td>5.737575</td>\n",
       "      <td>22.078694</td>\n",
       "      <td>...</td>\n",
       "      <td>0.0</td>\n",
       "      <td>0.0</td>\n",
       "      <td>0.0</td>\n",
       "      <td>0.0</td>\n",
       "      <td>0.0</td>\n",
       "      <td>0.0</td>\n",
       "      <td>0.0</td>\n",
       "      <td>0.0</td>\n",
       "      <td>0.0</td>\n",
       "      <td>0.0</td>\n",
       "    </tr>\n",
       "  </tbody>\n",
       "</table>\n",
       "<p>5 rows × 3520 columns</p>\n",
       "</div>"
      ],
      "text/plain": [
       "      ژول     سالانه     ارتفاع       شرح       زمین   دم        کشور  \\\n",
       "id                                                                      \n",
       "2269  0.0   0.000000   0.000000  0.000000  14.141219  0.0    3.438098   \n",
       "2603  0.0  25.628668   0.000000  5.164715  28.282439  0.0  147.838226   \n",
       "3220  0.0   6.407167   0.000000  0.000000   4.713740  0.0   10.314295   \n",
       "3345  0.0   0.000000   0.000000  0.000000   0.000000  0.0    0.000000   \n",
       "4094  0.0   0.000000  14.071269  5.164715  28.282439  0.0   79.076260   \n",
       "\n",
       "          نوشته     رهبری     باستان  ...  گزش  کلیتوریس  هرثمه  وینچستر  \\\n",
       "id                                    ...                                  \n",
       "2269   0.000000  5.737575   0.000000  ...  0.0       0.0    0.0      0.0   \n",
       "2603   4.595333  0.000000  11.039347  ...  0.0       0.0    0.0      0.0   \n",
       "3220   4.595333  0.000000  16.559021  ...  0.0       0.0    0.0      0.0   \n",
       "3345   9.190666  0.000000   5.519674  ...  0.0       0.0    0.0      0.0   \n",
       "4094  13.786000  5.737575  22.078694  ...  0.0       0.0    0.0      0.0   \n",
       "\n",
       "      وینوکوروف  کیدز  گلنس  فیروزجا  کاشفی  کلمسون  \n",
       "id                                                   \n",
       "2269        0.0   0.0   0.0      0.0    0.0     0.0  \n",
       "2603        0.0   0.0   0.0      0.0    0.0     0.0  \n",
       "3220        0.0   0.0   0.0      0.0    0.0     0.0  \n",
       "3345        0.0   0.0   0.0      0.0    0.0     0.0  \n",
       "4094        0.0   0.0   0.0      0.0    0.0     0.0  \n",
       "\n",
       "[5 rows x 3520 columns]"
      ]
     },
     "execution_count": 115,
     "metadata": {},
     "output_type": "execute_result"
    }
   ],
   "source": [
    "import pandas as pd\n",
    "tf_idf_matrix_df = pd.DataFrame(tf_idf_matrix, columns=['id', 'vector'])    \n",
    "tf_idf_matrix_df = tf_idf_matrix_df.set_index('id')\n",
    "tf_idf_matrix_df = tf_idf_matrix_df['vector'].apply(pd.Series)\n",
    "tf_idf_matrix_df = tf_idf_matrix_df.fillna(0)\n",
    "tf_idf_matrix_df.head()"
   ]
  },
  {
   "cell_type": "code",
   "execution_count": null,
   "metadata": {},
   "outputs": [
    {
     "data": {
      "text/html": [
       "<div>\n",
       "<style scoped>\n",
       "    .dataframe tbody tr th:only-of-type {\n",
       "        vertical-align: middle;\n",
       "    }\n",
       "\n",
       "    .dataframe tbody tr th {\n",
       "        vertical-align: top;\n",
       "    }\n",
       "\n",
       "    .dataframe thead th {\n",
       "        text-align: right;\n",
       "    }\n",
       "</style>\n",
       "<table border=\"1\" class=\"dataframe\">\n",
       "  <thead>\n",
       "    <tr style=\"text-align: right;\">\n",
       "      <th></th>\n",
       "      <th>ژول</th>\n",
       "      <th>سالانه</th>\n",
       "      <th>ارتفاع</th>\n",
       "      <th>شرح</th>\n",
       "      <th>زمین</th>\n",
       "      <th>دم</th>\n",
       "      <th>کشور</th>\n",
       "      <th>نوشته</th>\n",
       "      <th>رهبری</th>\n",
       "      <th>باستان</th>\n",
       "      <th>...</th>\n",
       "      <th>گزش</th>\n",
       "      <th>کلیتوریس</th>\n",
       "      <th>هرثمه</th>\n",
       "      <th>وینچستر</th>\n",
       "      <th>وینوکوروف</th>\n",
       "      <th>کیدز</th>\n",
       "      <th>گلنس</th>\n",
       "      <th>فیروزجا</th>\n",
       "      <th>کاشفی</th>\n",
       "      <th>کلمسون</th>\n",
       "    </tr>\n",
       "    <tr>\n",
       "      <th>id</th>\n",
       "      <th></th>\n",
       "      <th></th>\n",
       "      <th></th>\n",
       "      <th></th>\n",
       "      <th></th>\n",
       "      <th></th>\n",
       "      <th></th>\n",
       "      <th></th>\n",
       "      <th></th>\n",
       "      <th></th>\n",
       "      <th></th>\n",
       "      <th></th>\n",
       "      <th></th>\n",
       "      <th></th>\n",
       "      <th></th>\n",
       "      <th></th>\n",
       "      <th></th>\n",
       "      <th></th>\n",
       "      <th></th>\n",
       "      <th></th>\n",
       "      <th></th>\n",
       "    </tr>\n",
       "  </thead>\n",
       "  <tbody>\n",
       "    <tr>\n",
       "      <th>439490</th>\n",
       "      <td>0.0</td>\n",
       "      <td>0.0</td>\n",
       "      <td>0.000000</td>\n",
       "      <td>5.164715</td>\n",
       "      <td>23.568699</td>\n",
       "      <td>0.00000</td>\n",
       "      <td>61.885769</td>\n",
       "      <td>22.976666</td>\n",
       "      <td>22.950302</td>\n",
       "      <td>662.360833</td>\n",
       "      <td>...</td>\n",
       "      <td>0.0</td>\n",
       "      <td>0.0</td>\n",
       "      <td>0.0</td>\n",
       "      <td>0.0</td>\n",
       "      <td>0.0</td>\n",
       "      <td>0.000000</td>\n",
       "      <td>0.0</td>\n",
       "      <td>0.0</td>\n",
       "      <td>0.0</td>\n",
       "      <td>0.0</td>\n",
       "    </tr>\n",
       "    <tr>\n",
       "      <th>4094</th>\n",
       "      <td>0.0</td>\n",
       "      <td>0.0</td>\n",
       "      <td>14.071269</td>\n",
       "      <td>5.164715</td>\n",
       "      <td>28.282439</td>\n",
       "      <td>0.00000</td>\n",
       "      <td>79.076260</td>\n",
       "      <td>13.786000</td>\n",
       "      <td>5.737575</td>\n",
       "      <td>22.078694</td>\n",
       "      <td>...</td>\n",
       "      <td>0.0</td>\n",
       "      <td>0.0</td>\n",
       "      <td>0.0</td>\n",
       "      <td>0.0</td>\n",
       "      <td>0.0</td>\n",
       "      <td>0.000000</td>\n",
       "      <td>0.0</td>\n",
       "      <td>0.0</td>\n",
       "      <td>0.0</td>\n",
       "      <td>0.0</td>\n",
       "    </tr>\n",
       "    <tr>\n",
       "      <th>4975637</th>\n",
       "      <td>0.0</td>\n",
       "      <td>0.0</td>\n",
       "      <td>0.000000</td>\n",
       "      <td>0.000000</td>\n",
       "      <td>0.000000</td>\n",
       "      <td>0.00000</td>\n",
       "      <td>6.876197</td>\n",
       "      <td>4.595333</td>\n",
       "      <td>0.000000</td>\n",
       "      <td>0.000000</td>\n",
       "      <td>...</td>\n",
       "      <td>0.0</td>\n",
       "      <td>0.0</td>\n",
       "      <td>0.0</td>\n",
       "      <td>0.0</td>\n",
       "      <td>0.0</td>\n",
       "      <td>391.184359</td>\n",
       "      <td>0.0</td>\n",
       "      <td>0.0</td>\n",
       "      <td>0.0</td>\n",
       "      <td>0.0</td>\n",
       "    </tr>\n",
       "    <tr>\n",
       "      <th>4254</th>\n",
       "      <td>0.0</td>\n",
       "      <td>0.0</td>\n",
       "      <td>0.000000</td>\n",
       "      <td>25.823573</td>\n",
       "      <td>9.427480</td>\n",
       "      <td>24.43699</td>\n",
       "      <td>41.257179</td>\n",
       "      <td>50.548666</td>\n",
       "      <td>0.000000</td>\n",
       "      <td>11.039347</td>\n",
       "      <td>...</td>\n",
       "      <td>0.0</td>\n",
       "      <td>0.0</td>\n",
       "      <td>0.0</td>\n",
       "      <td>0.0</td>\n",
       "      <td>0.0</td>\n",
       "      <td>0.000000</td>\n",
       "      <td>0.0</td>\n",
       "      <td>0.0</td>\n",
       "      <td>0.0</td>\n",
       "      <td>0.0</td>\n",
       "    </tr>\n",
       "    <tr>\n",
       "      <th>5634034</th>\n",
       "      <td>0.0</td>\n",
       "      <td>0.0</td>\n",
       "      <td>0.000000</td>\n",
       "      <td>0.000000</td>\n",
       "      <td>108.416016</td>\n",
       "      <td>0.00000</td>\n",
       "      <td>0.000000</td>\n",
       "      <td>0.000000</td>\n",
       "      <td>0.000000</td>\n",
       "      <td>0.000000</td>\n",
       "      <td>...</td>\n",
       "      <td>0.0</td>\n",
       "      <td>0.0</td>\n",
       "      <td>0.0</td>\n",
       "      <td>0.0</td>\n",
       "      <td>0.0</td>\n",
       "      <td>0.000000</td>\n",
       "      <td>0.0</td>\n",
       "      <td>0.0</td>\n",
       "      <td>0.0</td>\n",
       "      <td>0.0</td>\n",
       "    </tr>\n",
       "    <tr>\n",
       "      <th>...</th>\n",
       "      <td>...</td>\n",
       "      <td>...</td>\n",
       "      <td>...</td>\n",
       "      <td>...</td>\n",
       "      <td>...</td>\n",
       "      <td>...</td>\n",
       "      <td>...</td>\n",
       "      <td>...</td>\n",
       "      <td>...</td>\n",
       "      <td>...</td>\n",
       "      <td>...</td>\n",
       "      <td>...</td>\n",
       "      <td>...</td>\n",
       "      <td>...</td>\n",
       "      <td>...</td>\n",
       "      <td>...</td>\n",
       "      <td>...</td>\n",
       "      <td>...</td>\n",
       "      <td>...</td>\n",
       "      <td>...</td>\n",
       "      <td>...</td>\n",
       "    </tr>\n",
       "    <tr>\n",
       "      <th>672231</th>\n",
       "      <td>0.0</td>\n",
       "      <td>0.0</td>\n",
       "      <td>0.000000</td>\n",
       "      <td>0.000000</td>\n",
       "      <td>0.000000</td>\n",
       "      <td>0.00000</td>\n",
       "      <td>0.000000</td>\n",
       "      <td>0.000000</td>\n",
       "      <td>0.000000</td>\n",
       "      <td>0.000000</td>\n",
       "      <td>...</td>\n",
       "      <td>0.0</td>\n",
       "      <td>0.0</td>\n",
       "      <td>0.0</td>\n",
       "      <td>0.0</td>\n",
       "      <td>0.0</td>\n",
       "      <td>0.000000</td>\n",
       "      <td>0.0</td>\n",
       "      <td>0.0</td>\n",
       "      <td>0.0</td>\n",
       "      <td>0.0</td>\n",
       "    </tr>\n",
       "    <tr>\n",
       "      <th>671507</th>\n",
       "      <td>0.0</td>\n",
       "      <td>0.0</td>\n",
       "      <td>0.000000</td>\n",
       "      <td>0.000000</td>\n",
       "      <td>0.000000</td>\n",
       "      <td>0.00000</td>\n",
       "      <td>0.000000</td>\n",
       "      <td>0.000000</td>\n",
       "      <td>0.000000</td>\n",
       "      <td>0.000000</td>\n",
       "      <td>...</td>\n",
       "      <td>0.0</td>\n",
       "      <td>0.0</td>\n",
       "      <td>0.0</td>\n",
       "      <td>0.0</td>\n",
       "      <td>0.0</td>\n",
       "      <td>0.000000</td>\n",
       "      <td>0.0</td>\n",
       "      <td>0.0</td>\n",
       "      <td>0.0</td>\n",
       "      <td>0.0</td>\n",
       "    </tr>\n",
       "    <tr>\n",
       "      <th>671309</th>\n",
       "      <td>0.0</td>\n",
       "      <td>0.0</td>\n",
       "      <td>0.000000</td>\n",
       "      <td>0.000000</td>\n",
       "      <td>0.000000</td>\n",
       "      <td>0.00000</td>\n",
       "      <td>0.000000</td>\n",
       "      <td>0.000000</td>\n",
       "      <td>0.000000</td>\n",
       "      <td>0.000000</td>\n",
       "      <td>...</td>\n",
       "      <td>0.0</td>\n",
       "      <td>0.0</td>\n",
       "      <td>0.0</td>\n",
       "      <td>0.0</td>\n",
       "      <td>0.0</td>\n",
       "      <td>0.000000</td>\n",
       "      <td>0.0</td>\n",
       "      <td>0.0</td>\n",
       "      <td>0.0</td>\n",
       "      <td>0.0</td>\n",
       "    </tr>\n",
       "    <tr>\n",
       "      <th>670875</th>\n",
       "      <td>0.0</td>\n",
       "      <td>0.0</td>\n",
       "      <td>0.000000</td>\n",
       "      <td>0.000000</td>\n",
       "      <td>0.000000</td>\n",
       "      <td>0.00000</td>\n",
       "      <td>0.000000</td>\n",
       "      <td>0.000000</td>\n",
       "      <td>0.000000</td>\n",
       "      <td>0.000000</td>\n",
       "      <td>...</td>\n",
       "      <td>0.0</td>\n",
       "      <td>0.0</td>\n",
       "      <td>0.0</td>\n",
       "      <td>0.0</td>\n",
       "      <td>0.0</td>\n",
       "      <td>0.000000</td>\n",
       "      <td>0.0</td>\n",
       "      <td>0.0</td>\n",
       "      <td>0.0</td>\n",
       "      <td>0.0</td>\n",
       "    </tr>\n",
       "    <tr>\n",
       "      <th>6132156</th>\n",
       "      <td>0.0</td>\n",
       "      <td>0.0</td>\n",
       "      <td>0.000000</td>\n",
       "      <td>0.000000</td>\n",
       "      <td>0.000000</td>\n",
       "      <td>0.00000</td>\n",
       "      <td>0.000000</td>\n",
       "      <td>0.000000</td>\n",
       "      <td>0.000000</td>\n",
       "      <td>0.000000</td>\n",
       "      <td>...</td>\n",
       "      <td>0.0</td>\n",
       "      <td>0.0</td>\n",
       "      <td>0.0</td>\n",
       "      <td>0.0</td>\n",
       "      <td>0.0</td>\n",
       "      <td>0.000000</td>\n",
       "      <td>0.0</td>\n",
       "      <td>0.0</td>\n",
       "      <td>0.0</td>\n",
       "      <td>0.0</td>\n",
       "    </tr>\n",
       "  </tbody>\n",
       "</table>\n",
       "<p>376 rows × 3520 columns</p>\n",
       "</div>"
      ],
      "text/plain": [
       "         ژول  سالانه     ارتفاع        شرح        زمین        دم       کشور  \\\n",
       "id                                                                            \n",
       "439490   0.0     0.0   0.000000   5.164715   23.568699   0.00000  61.885769   \n",
       "4094     0.0     0.0  14.071269   5.164715   28.282439   0.00000  79.076260   \n",
       "4975637  0.0     0.0   0.000000   0.000000    0.000000   0.00000   6.876197   \n",
       "4254     0.0     0.0   0.000000  25.823573    9.427480  24.43699  41.257179   \n",
       "5634034  0.0     0.0   0.000000   0.000000  108.416016   0.00000   0.000000   \n",
       "...      ...     ...        ...        ...         ...       ...        ...   \n",
       "672231   0.0     0.0   0.000000   0.000000    0.000000   0.00000   0.000000   \n",
       "671507   0.0     0.0   0.000000   0.000000    0.000000   0.00000   0.000000   \n",
       "671309   0.0     0.0   0.000000   0.000000    0.000000   0.00000   0.000000   \n",
       "670875   0.0     0.0   0.000000   0.000000    0.000000   0.00000   0.000000   \n",
       "6132156  0.0     0.0   0.000000   0.000000    0.000000   0.00000   0.000000   \n",
       "\n",
       "             نوشته      رهبری      باستان  ...  گزش  کلیتوریس  هرثمه  وینچستر  \\\n",
       "id                                         ...                                  \n",
       "439490   22.976666  22.950302  662.360833  ...  0.0       0.0    0.0      0.0   \n",
       "4094     13.786000   5.737575   22.078694  ...  0.0       0.0    0.0      0.0   \n",
       "4975637   4.595333   0.000000    0.000000  ...  0.0       0.0    0.0      0.0   \n",
       "4254     50.548666   0.000000   11.039347  ...  0.0       0.0    0.0      0.0   \n",
       "5634034   0.000000   0.000000    0.000000  ...  0.0       0.0    0.0      0.0   \n",
       "...            ...        ...         ...  ...  ...       ...    ...      ...   \n",
       "672231    0.000000   0.000000    0.000000  ...  0.0       0.0    0.0      0.0   \n",
       "671507    0.000000   0.000000    0.000000  ...  0.0       0.0    0.0      0.0   \n",
       "671309    0.000000   0.000000    0.000000  ...  0.0       0.0    0.0      0.0   \n",
       "670875    0.000000   0.000000    0.000000  ...  0.0       0.0    0.0      0.0   \n",
       "6132156   0.000000   0.000000    0.000000  ...  0.0       0.0    0.0      0.0   \n",
       "\n",
       "         وینوکوروف        کیدز  گلنس  فیروزجا  کاشفی  کلمسون  \n",
       "id                                                            \n",
       "439490         0.0    0.000000   0.0      0.0    0.0     0.0  \n",
       "4094           0.0    0.000000   0.0      0.0    0.0     0.0  \n",
       "4975637        0.0  391.184359   0.0      0.0    0.0     0.0  \n",
       "4254           0.0    0.000000   0.0      0.0    0.0     0.0  \n",
       "5634034        0.0    0.000000   0.0      0.0    0.0     0.0  \n",
       "...            ...         ...   ...      ...    ...     ...  \n",
       "672231         0.0    0.000000   0.0      0.0    0.0     0.0  \n",
       "671507         0.0    0.000000   0.0      0.0    0.0     0.0  \n",
       "671309         0.0    0.000000   0.0      0.0    0.0     0.0  \n",
       "670875         0.0    0.000000   0.0      0.0    0.0     0.0  \n",
       "6132156        0.0    0.000000   0.0      0.0    0.0     0.0  \n",
       "\n",
       "[376 rows x 3520 columns]"
      ]
     },
     "metadata": {},
     "output_type": "display_data"
    },
    {
     "ename": "",
     "evalue": "",
     "output_type": "error",
     "traceback": [
      "\u001B[1;31mThe Kernel crashed while executing code in the the current cell or a previous cell. Please review the code in the cell(s) to identify a possible cause of the failure. Click <a href='https://aka.ms/vscodeJupyterKernelCrash'>here</a> for more info. View Jupyter <a href='command:jupyter.viewOutput'>log</a> for further details."
     ]
    }
   ],
   "source": [
    "# search for ariticles with the word `تاریخ` in tf_idf_matrix_df\n",
    "related = tf_idf_matrix_df[tf_idf_matrix_df['تاریخ'] > 0]\n",
    "# sort by tf_idf value\n",
    "related = related.sort_values(by='تاریخ', ascending=False)\n",
    "related"
   ]
  }
 ],
 "metadata": {
  "colab": {
   "collapsed_sections": [],
   "provenance": []
  },
  "kernelspec": {
   "display_name": "Python 3.8.13 ('myEnv')",
   "language": "python",
   "name": "python3"
  },
  "language_info": {
   "codemirror_mode": {
    "name": "ipython",
    "version": 3
   },
   "file_extension": ".py",
   "mimetype": "text/x-python",
   "name": "python",
   "nbconvert_exporter": "python",
   "pygments_lexer": "ipython3",
   "version": "3.8.13 (default, Mar 28 2022, 06:16:26) \n[Clang 12.0.0 ]"
  },
  "name": "SUT - Data Mining Spark Exercise",
  "notebookId": 3958686303135329,
  "toc": {
   "base_numbering": 1,
   "nav_menu": {},
   "number_sections": true,
   "sideBar": true,
   "skip_h1_title": false,
   "title_cell": "Table of Contents",
   "title_sidebar": "Contents",
   "toc_cell": false,
   "toc_position": {},
   "toc_section_display": true,
   "toc_window_display": false
  },
  "vscode": {
   "interpreter": {
    "hash": "17834c5f8fe1aed837634498cfcf8480d7a4681659b9e2d9e3df938711b793bb"
   }
  }
 },
 "nbformat": 4,
 "nbformat_minor": 0
}
