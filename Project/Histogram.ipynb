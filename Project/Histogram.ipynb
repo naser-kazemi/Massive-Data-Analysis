{
  "cells": [
    {
      "cell_type": "code",
      "execution_count": null,
      "metadata": {
        "id": "waR3LspYY_qH"
      },
      "outputs": [],
      "source": [
        "import os\n",
        "!pip install pyspark\n",
        "!pip install -U -q PyDrive\n",
        "!apt-get install openjdk-8-jdk-headless -qq\n",
        "os.environ[\"JAVA_HOME\"] = \"/usr/lib/jvm/java-8-openjdk-amd64\""
      ]
    },
    {
      "cell_type": "code",
      "execution_count": 2,
      "metadata": {
        "colab": {
          "base_uri": "https://localhost:8080/"
        },
        "id": "hHH0H8TUY_qR",
        "outputId": "6525efe1-52d6-494d-b44e-7d113f4d69be"
      },
      "outputs": [
        {
          "name": "stdout",
          "output_type": "stream",
          "text": [
            "Mounted at /content/drive\n"
          ]
        }
      ],
      "source": [
        "from google.colab import drive\n",
        "drive.mount('/content/drive')"
      ]
    },
    {
      "cell_type": "code",
      "execution_count": 3,
      "metadata": {
        "id": "cLaVY086Y_qR"
      },
      "outputs": [],
      "source": [
        "from pyspark import SparkContext, SparkConf\n",
        "from pyspark.sql import SparkSession\n",
        "from pyspark.sql.types import StructType, StructField, StringType, IntegerType, TimestampType\n",
        "from pyspark.sql.functions import col, current_timestamp, to_date, hour, dayofweek\n",
        "\n",
        "import numpy as np\n",
        "\n",
        "from itertools import combinations"
      ]
    },
    {
      "cell_type": "code",
      "execution_count": 4,
      "metadata": {
        "id": "8BT3cf-lY_qR"
      },
      "outputs": [],
      "source": [
        "def create_new_spark_context(appName):\n",
        "    return SparkSession.builder.appName(appName)\\\n",
        "        .master(\"local[*]\").getOrCreate()\n",
        "\n",
        "\n",
        "spark_session = create_new_spark_context(\"LSH\")\n",
        "sc = spark_session.sparkContext\n"
      ]
    },
    {
      "cell_type": "code",
      "execution_count": 5,
      "metadata": {
        "id": "xxWepJfxY_qR"
      },
      "outputs": [],
      "source": [
        "schema = StructType([\n",
        "    StructField(\"DEVICE_CODE\", IntegerType(), True),\n",
        "    StructField(\"SYSTEM_ID\", IntegerType(), True),\n",
        "    StructField(\"ORIGINE_CAR_KEY\", StringType(), True),\n",
        "    StructField(\"FINAL_CAR_KEY\", StringType(), True),\n",
        "    StructField(\"CHECK_STATUS_KEY\", IntegerType(), True),\n",
        "    StructField(\"COMPANY_ID\", StringType(), True),\n",
        "    StructField(\"PASS_DAY_TIME\", TimestampType(), True)\n",
        "])"
      ]
    },
    {
      "cell_type": "code",
      "execution_count": null,
      "metadata": {
        "id": "v1Op0DvUY_qS"
      },
      "outputs": [],
      "source": [
        "df = spark_session.read.csv(\n",
        "    '/content/drive/MyDrive/MDA/Project/TrafficData.csv', header=True, schema=schema)\n"
      ]
    },
    {
      "cell_type": "markdown",
      "metadata": {
        "id": "n20jqiLykwyO"
      },
      "source": [
        "First we remove the outliers from the data. Namely the cars that have been recorded more than 1000 times. We can do this by using the following code:"
      ]
    },
    {
      "cell_type": "code",
      "execution_count": 6,
      "metadata": {
        "id": "0OVNE3YoY_qS"
      },
      "outputs": [],
      "source": [
        "# add count column to count the number of records, group by FINAL_CAR_KEY\n",
        "# define a window to count the number of records for each car\n",
        "\n",
        "from pyspark.sql.window import Window\n",
        "from pyspark.sql.functions import count\n",
        "\n",
        "window = Window.partitionBy(\"FINAL_CAR_KEY\")\n",
        "df = df.withColumn(\"COUNT\", count(\"*\").over(window))\n",
        "\n",
        "# remove cars with moe than 1000 records\n",
        "df = df.filter(col(\"COUNT\") < 1000)\n",
        "df.show(5)\n"
      ]
    },
    {
      "cell_type": "code",
      "execution_count": null,
      "metadata": {
        "colab": {
          "base_uri": "https://localhost:8080/"
        },
        "id": "5Tk1OHR_V15C",
        "outputId": "bf092b00-8800-42f5-cddf-2bf4aec4014b"
      },
      "outputs": [
        {
          "data": {
            "text/plain": [
              "[('10000007', 22010053, datetime.datetime(2022, 1, 12, 6, 30, 27), 284)]"
            ]
          },
          "execution_count": 42,
          "metadata": {},
          "output_type": "execute_result"
        }
      ],
      "source": [
        "rdd = df.rdd.map(lambda x: (x[\"FINAL_CAR_KEY\"], x[\"DEVICE_CODE\"], x[\"PASS_DAY_TIME\"], x[\"SYSTEM_ID\"]))\n",
        "rdd.take(1)"
      ]
    },
    {
      "cell_type": "markdown",
      "metadata": {
        "id": "sRkJOuekV15D"
      },
      "source": [
        "## Adjacent Cameras"
      ]
    },
    {
      "cell_type": "markdown",
      "metadata": {
        "id": "DIwZRi2AV15D"
      },
      "source": [
        "Here we are going to find the adjacent cameras, based on the difference of the time they have recorded the same cars. First we filter the devices having $SYSTEM\\_ID \\in \\{81, 281, 283\\}$ which are tha devices only recording passes of the cars."
      ]
    },
    {
      "cell_type": "code",
      "execution_count": 7,
      "metadata": {
        "id": "zJ-rVu9vV15D"
      },
      "outputs": [],
      "source": [
        "# filter the devices with SYSTEM_ID = 81, 281, 283\n",
        "pass_devices = {81, 281, 283}\n",
        "rdd = rdd.filter(lambda x: x[3] in pass_devices)"
      ]
    },
    {
      "cell_type": "markdown",
      "metadata": {
        "id": "nhxIvUzTV15D"
      },
      "source": [
        "Now we group the data by car and date"
      ]
    },
    {
      "cell_type": "code",
      "execution_count": null,
      "metadata": {
        "id": "72y17u0JV15D"
      },
      "outputs": [],
      "source": [
        "# create rdd with ((FINAL_CAR_KEY, PASS_DAY_TIME.date()), (DEVICE_CODE, PASS_DAY_TIME.time()))\n",
        "\n",
        "rdd = rdd.map(lambda x: ((x[0], x[2].date()), (x[1], x[2].hour * 60 + x[2].minute)))\n"
      ]
    },
    {
      "cell_type": "markdown",
      "metadata": {
        "id": "qW3rFFkPV15E"
      },
      "source": [
        "Then we group the data by FINAL_CAR_KEY and for each car sort the list of (DEVICE_ID, PASS_DAY_TIME) by PASS_DAY_TIME. Then we calculate the difference between the consecutive PASS_DAY_TIME and we filter the ones that are less than 15 minutes. Finally we group the data by DEVICE_ID and count the number of cars that have been recorded by the same device."
      ]
    },
    {
      "cell_type": "code",
      "execution_count": null,
      "metadata": {
        "id": "d6mI2IOAV15E"
      },
      "outputs": [],
      "source": [
        "# Calculate adjency pair of devices\n",
        "# device A and B are pair, if: 1) there is at least one car that first passed A, and then passed B, and time passed is at most 30 min\n",
        "\n",
        "# rdd: ((FINAL_CAR_KEY, PASS_DAY_TIME.date()), (DEVICE_CODE, PASS_DAY_TIME.time()))\n",
        "\n",
        "# group by car and date to get the list of devices and times\n",
        "\n",
        "car_devices_times_rdd = rdd.groupByKey().mapValues(list)\n",
        "\n",
        "# now sort the list of devices and times by time\n",
        "car_devices_times_rdd = car_devices_times_rdd.mapValues(lambda x: sorted(x, key=lambda y: y[1]))"
      ]
    },
    {
      "cell_type": "code",
      "execution_count": 8,
      "metadata": {
        "id": "PZVrJ9kAV15E"
      },
      "outputs": [],
      "source": [
        "# Then we calculate the difference between the consecutive (device, time) pairs.\n",
        "def calculate_diff(l):\n",
        "    return [(l[i][0], l[i+1][1] - l[i][1]) for i in range(len(l)-1)]\n",
        "\n",
        "# compute the difference between time of consecutive pairs\n",
        "car_devices_times_diff_rdd = car_devices_times_rdd.mapValues(calculate_diff)\n",
        "\n",
        "# Now we filter the ones that are less than 15 minutes.\n",
        "car_devices_times_diff_rdd = car_devices_times_diff_rdd.mapValues(lambda x: [y for y in x if y[1] <= 15])"
      ]
    },
    {
      "cell_type": "code",
      "execution_count": 9,
      "metadata": {
        "id": "bH-QAScdV15F"
      },
      "outputs": [],
      "source": [
        "# Create pairs of devices from adjacent devices in the list of each (car, date)\n",
        "\n",
        "def create_pairs(l):\n",
        "    return list(zip(l[:-1], l[1:]))\n",
        "\n",
        "car_devices_pairs_rdd = car_devices_times_diff_rdd.mapValues(create_pairs)"
      ]
    },
    {
      "cell_type": "code",
      "execution_count": null,
      "metadata": {
        "colab": {
          "base_uri": "https://localhost:8080/"
        },
        "id": "VWu373eVJB3P",
        "outputId": "bd82623e-f2a7-401f-9bf1-3e453baf2296"
      },
      "outputs": [
        {
          "data": {
            "text/plain": [
              "24512611"
            ]
          },
          "execution_count": 18,
          "metadata": {},
          "output_type": "execute_result"
        }
      ],
      "source": [
        "rdd.count()"
      ]
    },
    {
      "cell_type": "code",
      "execution_count": null,
      "metadata": {
        "colab": {
          "base_uri": "https://localhost:8080/"
        },
        "id": "XBy4FPycpKS_",
        "outputId": "c1b009cf-82d7-4d88-d6ec-28ba8bc1fbb2"
      },
      "outputs": [
        {
          "data": {
            "text/plain": [
              "[(('100020795', datetime.date(2022, 1, 8)), []),\n",
              " (('10007297', datetime.date(2022, 1, 13)), []),\n",
              " (('10027219', datetime.date(2022, 1, 11)), [((232, 4), (145, 0))]),\n",
              " (('100436790', datetime.date(2022, 1, 8)),\n",
              "  [((900155, 9), (900213, 1)),\n",
              "   ((900213, 1), (900212, 15)),\n",
              "   ((900212, 15), (900182, 8)),\n",
              "   ((900182, 8), (100701068, 15))]),\n",
              " (('100452039', datetime.date(2022, 1, 12)), []),\n",
              " (('100494468', datetime.date(2022, 1, 10)),\n",
              "  [((900142, 3), (631357, 15)), ((631357, 15), (114, 4))]),\n",
              " (('100725036', datetime.date(2022, 1, 13)), []),\n",
              " (('100811826', datetime.date(2022, 1, 14)), []),\n",
              " (('100894631', datetime.date(2022, 1, 8)), []),\n",
              " (('10091804', datetime.date(2022, 1, 14)), [])]"
            ]
          },
          "execution_count": 17,
          "metadata": {},
          "output_type": "execute_result"
        }
      ],
      "source": [
        "car_devices_pairs_rdd.take(10)"
      ]
    },
    {
      "cell_type": "code",
      "execution_count": null,
      "metadata": {
        "id": "v2HM0ZEIV15F"
      },
      "outputs": [],
      "source": [
        "# now find the adjacent device pairs\n",
        "adjacent_device_pairs = car_devices_pairs_rdd.flatMap(lambda x: x[1]).map(lambda x: (x[0][0], x[1][0]))\n",
        "\n",
        "# filter pairs with the same device\n",
        "adjacent_device_pairs = adjacent_device_pairs.filter(lambda x: x[0] != x[1])"
      ]
    },
    {
      "cell_type": "markdown",
      "metadata": {
        "id": "qptOGpt6kTBE"
      },
      "source": [
        "We have candidates for adjacent cameras. Now we need to find the ones that are actually adjacent. By an approximation we can say that two cameras are adjacent if they have occurred in the calculation above more than a certain number of times. We can do this by using the following code:"
      ]
    },
    {
      "cell_type": "code",
      "execution_count": null,
      "metadata": {
        "id": "j_hV6uBGkTBE"
      },
      "outputs": [],
      "source": [
        "# group by device and count the number of pairs\n",
        "adjacent_device_pairs = adjacent_device_pairs.map(lambda x: ((x[0], x[1]), 1)).reduceByKey(lambda x, y: x + y)\n",
        "\n",
        "# filter the pairs with less than 100 records\n",
        "adjacent_device_pairs = adjacent_device_pairs.filter(lambda x: x[1] >= 1000)"
      ]
    },
    {
      "cell_type": "code",
      "execution_count": null,
      "metadata": {
        "colab": {
          "base_uri": "https://localhost:8080/"
        },
        "id": "ONw2MKDGdvhH",
        "outputId": "58192148-56fa-4e5e-bed8-6acf1e714448"
      },
      "outputs": [
        {
          "data": {
            "text/plain": [
              "688"
            ]
          },
          "execution_count": 47,
          "metadata": {},
          "output_type": "execute_result"
        }
      ],
      "source": [
        "adjacent_device_pairs.count()"
      ]
    },
    {
      "cell_type": "code",
      "execution_count": null,
      "metadata": {
        "colab": {
          "base_uri": "https://localhost:8080/"
        },
        "id": "HsD87d9sdgyZ",
        "outputId": "d70ba88c-3fa3-4c9a-9da4-c9a6ecbefcbe"
      },
      "outputs": [
        {
          "data": {
            "text/plain": [
              "[((900221, 212501), 11970),\n",
              " ((900126, 900215), 1011),\n",
              " ((900247, 145), 1098),\n",
              " ((900164, 631369), 1389),\n",
              " ((900164, 631368), 24050),\n",
              " ((900236, 631357), 1364),\n",
              " ((900155, 631363), 1635),\n",
              " ((211301, 900191), 1248),\n",
              " ((213402, 230106), 2455),\n",
              " ((900212, 900269), 1906)]"
            ]
          },
          "execution_count": 48,
          "metadata": {},
          "output_type": "execute_result"
        }
      ],
      "source": [
        "adjacent_device_pairs.take(10)"
      ]
    },
    {
      "cell_type": "code",
      "execution_count": null,
      "metadata": {
        "id": "cuxqOWJt_z-E"
      },
      "outputs": [],
      "source": [
        "# calculate the histogram of number of cars recorded by both devices in different days for all\n",
        "# hours of the day\n",
        "\n",
        "device1, device2 = 900258, 900243\n",
        "\n",
        "# join the rdd with itself to get all pairs of records with device1 and device2\n",
        "# x[\"FINAL_CAR_KEY\"], x[\"DEVICE_CODE\"], x[\"PASS_DAY_TIME\"], x[\"SYSTEM_ID\"]\n",
        "# rdd = rdd.map(lambda x: ((x[0], x[2].date()), (x[1], x[2].hour * 60 + x[2].minute)))\n",
        "# ((FINAL_CAR_KEY, PASS_DAY_TIME.date()), (DEVICE_CODE, PASS_DAY_TIME.time())\n",
        "joined_rdd = rdd.filter(lambda x: x[1][0] == device1).join(rdd.filter(lambda x: x[1][0] == device2))"
      ]
    },
    {
      "cell_type": "code",
      "execution_count": null,
      "metadata": {
        "colab": {
          "base_uri": "https://localhost:8080/"
        },
        "id": "vcRxbOpE_4gP",
        "outputId": "8ae2d60f-bb95-4392-bc94-7ed812debbb4"
      },
      "outputs": [
        {
          "data": {
            "text/plain": [
              "[(('102898379', datetime.date(2022, 1, 10)), ((900258, 896), (900243, 424)))]"
            ]
          },
          "execution_count": 55,
          "metadata": {},
          "output_type": "execute_result"
        }
      ],
      "source": [
        "joined_rdd.take(1)"
      ]
    },
    {
      "cell_type": "code",
      "execution_count": null,
      "metadata": {
        "id": "YLcAXhgeFprd"
      },
      "outputs": [],
      "source": [
        "# filter the pairs in interval of 15 minutes\n",
        "joined_rdd = joined_rdd.filter(lambda x: abs(x[1][0][1] - x[1][1][1]) <= 15)\n",
        "\n",
        "# group by date and hour\n",
        "joined_rdd = joined_rdd.map(lambda x: ((x[0][1], x[1][0][1] // 60), 1)).reduceByKey(lambda x, y: x + y)"
      ]
    },
    {
      "cell_type": "code",
      "execution_count": null,
      "metadata": {
        "id": "0qtNy4hGFvx1"
      },
      "outputs": [],
      "source": [
        "# now collect the result\n",
        "pair_records = joined_rdd.collect()"
      ]
    },
    {
      "cell_type": "code",
      "execution_count": null,
      "metadata": {
        "id": "74UDgAe7HPnR"
      },
      "outputs": [],
      "source": [
        "# sort the result by date and hour\n",
        "pair_records = sorted(pair_records, key=lambda x: (x[0][0], x[0][1]))"
      ]
    },
    {
      "cell_type": "code",
      "execution_count": 11,
      "metadata": {
        "id": "hJiOdRBLwv81"
      },
      "outputs": [],
      "source": [
        "# convert weekdays from greogrian to persian\n",
        "import datetime\n",
        "import jdatetime\n",
        "\n",
        "def convert_to_persian_date(date):\n",
        "    # get the weekday and date in persian\n",
        "    persian_date = jdatetime.date.fromgregorian(date=date)\n",
        "    persian_weekday = persian_date.weekday()\n",
        "    persian_date = persian_date.strftime('%Y/%m/%d')\n",
        "    return persian_date, persian_weekday\n",
        "\n",
        "# convert the date to persian\n",
        "pair_records = [(convert_to_persian_date(x[0][0]), x[0][1], x[1]) for x in pair_records]"
      ]
    },
    {
      "cell_type": "code",
      "execution_count": null,
      "metadata": {
        "colab": {
          "base_uri": "https://localhost:8080/",
          "height": 730
        },
        "id": "_gWo5Ff8G26R",
        "outputId": "dcf1d2be-8d85-4c44-f618-767bd91ae286"
      },
      "outputs": [
        {
          "data": {
            "image/png": "[encoded data removed]",
            "text/plain": [
              "<Figure size 1440x720 with 1 Axes>"
            ]
          },
          "metadata": {
            "needs_background": "light"
          },
          "output_type": "display_data"
        }
      ],
      "source": [
        "# plot the histogram\n",
        "\n",
        "import numpy as np\n",
        "import matplotlib.pyplot as plt\n",
        "\n",
        "\n",
        "weekdays = [\"Saturday\", \"Sunday\", \"Monday\",\n",
        "            \"Tuesday\", \"Wednesday\", \"Thursday\", \"Friday\"]\n",
        "\n",
        "\n",
        "# plot the histogram of number of records for each hour of the day\n",
        "# make function from the above cell\n",
        "def plot_histogram(device1, device2, pair_records):\n",
        "    plt.figure(figsize=(20, 10))\n",
        "    plt.bar(np.arange(len(pair_records)), [x[2] for x in pair_records])\n",
        "\n",
        "    # set the ticks, labels and title\n",
        "    # ticks should be the weekday in persian for each 24 hours\n",
        "    ticks = []\n",
        "    for i in range(len(pair_records)):\n",
        "        if i % 24 == 0:\n",
        "            ticks.append(\"{} {}\".format(\n",
        "                weekdays[pair_records[i][0][1]], pair_records[i][0][0]))\n",
        "        else:\n",
        "            ticks.append(\"\")\n",
        "\n",
        "    plt.xticks(np.arange(len(pair_records)), ticks, rotation=90)\n",
        "\n",
        "    plt.title(\"Number of records for device {} and device {}\".format(\n",
        "        device1, device2))\n",
        "    plt.xlabel(\"Date and hour\")\n",
        "    plt.ylabel(\"Number of records\")\n",
        "    plt.show()\n",
        "\n",
        "\n",
        "plot_histogram(device1, device2, pair_records)"
      ]
    },
    {
      "cell_type": "code",
      "execution_count": 13,
      "metadata": {
        "colab": {
          "base_uri": "https://localhost:8080/"
        },
        "id": "jraNn0Fb2M0p",
        "outputId": "c8594606-04d0-4e53-c74d-9895a2bae4cc"
      },
      "outputs": [
        {
          "name": "stdout",
          "output_type": "stream",
          "text": [
            "+-----------+---------+---------------+-------------+----------------+----------+-------------------+-----+\n",
            "|DEVICE_CODE|SYSTEM_ID|ORIGINE_CAR_KEY|FINAL_CAR_KEY|CHECK_STATUS_KEY|COMPANY_ID|      PASS_DAY_TIME|COUNT|\n",
            "+-----------+---------+---------------+-------------+----------------+----------+-------------------+-----+\n",
            "|   22010061|      284|      100000100|    100000100|               6|       161|2021-12-29 21:11:12|    7|\n",
            "|   22010087|      284|      100000100|    100000100|               6|       161|2021-12-30 17:22:15|    7|\n",
            "|   22010100|      284|      100000100|    100000100|               6|       161|2021-12-30 17:55:52|    7|\n",
            "|     103002|       81|      100000100|    100000100|               5|       161|2021-12-31 11:17:24|    7|\n",
            "|     103001|       81|      100000100|    100000100|               5|       161|2021-12-31 11:31:13|    7|\n",
            "+-----------+---------+---------------+-------------+----------------+----------+-------------------+-----+\n",
            "only showing top 5 rows\n",
            "\n"
          ]
        }
      ],
      "source": [
        "# load the main data\n",
        "df = spark_session.read.csv(\n",
        "    '/content/drive/MyDrive/MDA/Project/MDA2022ProjectData.csv', header=True, schema=schema)\n",
        "window = Window.partitionBy(\"FINAL_CAR_KEY\")\n",
        "df = df.withColumn(\"COUNT\", count(\"*\").over(window))\n",
        "\n",
        "# remove cars with moe than 1000 records\n",
        "df = df.filter(col(\"COUNT\") < 1000)\n",
        "df.show(5)"
      ]
    },
    {
      "cell_type": "code",
      "execution_count": 14,
      "metadata": {
        "colab": {
          "base_uri": "https://localhost:8080/"
        },
        "id": "GBk3Y6Ne2Sf7",
        "outputId": "6a341948-7559-4f8c-fb57-6395fde67513"
      },
      "outputs": [
        {
          "data": {
            "text/plain": [
              "[Row(date=datetime.date(2022, 1, 9)),\n",
              " Row(date=datetime.date(2022, 1, 15)),\n",
              " Row(date=datetime.date(2022, 1, 18)),\n",
              " Row(date=datetime.date(2021, 12, 27)),\n",
              " Row(date=datetime.date(2022, 1, 10)),\n",
              " Row(date=datetime.date(2022, 1, 8)),\n",
              " Row(date=datetime.date(2022, 1, 16)),\n",
              " Row(date=datetime.date(2022, 1, 13)),\n",
              " Row(date=datetime.date(2021, 12, 22)),\n",
              " Row(date=datetime.date(2021, 12, 28)),\n",
              " Row(date=datetime.date(2021, 12, 26)),\n",
              " Row(date=datetime.date(2022, 1, 6)),\n",
              " Row(date=datetime.date(2021, 12, 29)),\n",
              " Row(date=datetime.date(2021, 12, 30)),\n",
              " Row(date=datetime.date(2022, 1, 3)),\n",
              " Row(date=datetime.date(2021, 12, 25)),\n",
              " Row(date=datetime.date(2022, 1, 7)),\n",
              " Row(date=datetime.date(2022, 1, 4)),\n",
              " Row(date=datetime.date(2022, 1, 17)),\n",
              " Row(date=datetime.date(2022, 1, 20)),\n",
              " Row(date=datetime.date(2021, 12, 24)),\n",
              " Row(date=datetime.date(2021, 12, 23)),\n",
              " Row(date=datetime.date(2022, 1, 5)),\n",
              " Row(date=datetime.date(2022, 1, 14)),\n",
              " Row(date=datetime.date(2022, 1, 19)),\n",
              " Row(date=datetime.date(2022, 1, 12)),\n",
              " Row(date=datetime.date(2022, 1, 1)),\n",
              " Row(date=datetime.date(2021, 12, 31)),\n",
              " Row(date=datetime.date(2022, 1, 11)),\n",
              " Row(date=datetime.date(2022, 1, 2))]"
            ]
          },
          "execution_count": 14,
          "metadata": {},
          "output_type": "execute_result"
        }
      ],
      "source": [
        "# get the unique dates of the data\n",
        "\n",
        "# firs get the date from the timestamp\n",
        "df = df.withColumn(\"date\", df[\"PASS_DAY_TIME\"].cast(\"date\"))\n",
        "\n",
        "# # get the unique dates\n",
        "unique_dates = df.select(\"date\").distinct().collect()\n",
        "unique_dates"
      ]
    },
    {
      "cell_type": "code",
      "execution_count": null,
      "metadata": {
        "colab": {
          "base_uri": "https://localhost:8080/"
        },
        "id": "ggtbKnq23J1a",
        "outputId": "04d75da9-f06b-44c6-f770-6a7caee89b5a"
      },
      "outputs": [
        {
          "data": {
            "text/plain": [
              "30"
            ]
          },
          "execution_count": 66,
          "metadata": {},
          "output_type": "execute_result"
        }
      ],
      "source": [
        "len(unique_dates)"
      ]
    },
    {
      "cell_type": "markdown",
      "metadata": {
        "id": "Hlv2ObwV4deG"
      },
      "source": [
        "This data is records from a whole month. we separate the data in batches of weeks and we calculate the number of adjacent cameras for each week. We can do this by using the following code:"
      ]
    },
    {
      "cell_type": "code",
      "execution_count": 15,
      "metadata": {
        "colab": {
          "base_uri": "https://localhost:8080/"
        },
        "id": "zQOnKLcz4a6o",
        "outputId": "a77b1033-0c8a-4a45-e1de-fe486c96f54d"
      },
      "outputs": [
        {
          "data": {
            "text/plain": [
              "[Row(week=1), Row(week=52), Row(week=3), Row(week=51), Row(week=2)]"
            ]
          },
          "execution_count": 15,
          "metadata": {},
          "output_type": "execute_result"
        }
      ],
      "source": [
        "# first get week of each date using spark functions\n",
        "from pyspark.sql.functions import weekofyear\n",
        "\n",
        "df = df.withColumn(\"week\", weekofyear(\"date\"))\n",
        "\n",
        "# get the unique weeks\n",
        "unique_weeks = df.select(\"week\").distinct().collect()\n",
        "unique_weeks"
      ]
    },
    {
      "cell_type": "code",
      "execution_count": 16,
      "metadata": {
        "id": "2E-ZhN94-L8v"
      },
      "outputs": [],
      "source": [
        "rdd = df.rdd.map(lambda x: (\n",
        "    x[\"FINAL_CAR_KEY\"], x[\"DEVICE_CODE\"], x[\"PASS_DAY_TIME\"], x[\"SYSTEM_ID\"], x[\"week\"]))\n",
        "rdd = rdd.filter(lambda x: x[3] in pass_devices)\n",
        "rdd = rdd.map(lambda x: ((x[0], x[2].date()),\n",
        "              (x[1], x[2].hour * 60 + x[2].minute, x[4])))"
      ]
    },
    {
      "cell_type": "code",
      "execution_count": 17,
      "metadata": {
        "id": "LnqksXaH3LeT"
      },
      "outputs": [],
      "source": [
        "# now split the data into 4 rdds, each rdd contains the data of one week\n",
        "rdd1 = rdd.filter(lambda x: x[1][2] == 52).map(lambda x: (x[0], (x[1][0], x[1][1])))\n",
        "rdd2 = rdd.filter(lambda x: x[1][2] == 53).map(lambda x: (x[0], (x[1][0], x[1][1])))\n",
        "rdd3 = rdd.filter(lambda x: x[1][2] == 1).map(lambda x: (x[0], (x[1][0], x[1][1])))\n",
        "rdd4 = rdd.filter(lambda x: x[1][2] == 2).map(lambda x: (x[0], (x[1][0], x[1][1])))"
      ]
    },
    {
      "cell_type": "code",
      "execution_count": null,
      "metadata": {
        "colab": {
          "base_uri": "https://localhost:8080/"
        },
        "id": "NICo4dbcJbBq",
        "outputId": "f76114a5-c4a0-4692-a8b3-9ab4c9e5682d"
      },
      "outputs": [
        {
          "data": {
            "text/plain": [
              "24461851"
            ]
          },
          "execution_count": 70,
          "metadata": {},
          "output_type": "execute_result"
        }
      ],
      "source": [
        "rdd1.count()"
      ]
    },
    {
      "cell_type": "code",
      "execution_count": null,
      "metadata": {
        "colab": {
          "base_uri": "https://localhost:8080/"
        },
        "id": "gt4IVldDdiEK",
        "outputId": "55936bc4-5aab-485e-83d0-16ff619bf53b"
      },
      "outputs": [
        {
          "data": {
            "text/plain": [
              "(('100000100', datetime.date(2021, 12, 31)), (103002, 677))"
            ]
          },
          "execution_count": 71,
          "metadata": {},
          "output_type": "execute_result"
        }
      ],
      "source": [
        "rdd1.take(1)[0]"
      ]
    },
    {
      "cell_type": "markdown",
      "metadata": {
        "id": "gARuCeP32Yks"
      },
      "source": [
        "First we find the adjacent cameras in the Whole dataset"
      ]
    },
    {
      "cell_type": "code",
      "execution_count": null,
      "metadata": {
        "id": "uJFwtjSX20k0"
      },
      "outputs": [],
      "source": [
        "car_devices_times_rdd = rdd.groupByKey().mapValues(list)\n",
        "car_devices_times_rdd = car_devices_times_rdd.mapValues(lambda x: sorted(x, key=lambda y: y[1]))"
      ]
    },
    {
      "cell_type": "code",
      "execution_count": null,
      "metadata": {
        "id": "Q0pzd3KG28HW"
      },
      "outputs": [],
      "source": [
        "car_devices_times_diff_rdd = car_devices_times_rdd.mapValues(calculate_diff)\n",
        "car_devices_times_diff_rdd = car_devices_times_diff_rdd.mapValues(lambda x: [y for y in x if y[1] <= 15])"
      ]
    },
    {
      "cell_type": "code",
      "execution_count": null,
      "metadata": {
        "id": "gNEU3epV3AOo"
      },
      "outputs": [],
      "source": [
        "car_devices_pairs_rdd = car_devices_times_diff_rdd.mapValues(create_pairs)"
      ]
    },
    {
      "cell_type": "code",
      "execution_count": null,
      "metadata": {
        "colab": {
          "base_uri": "https://localhost:8080/"
        },
        "id": "fPTm0Haz3Dgi",
        "outputId": "cf1183ba-8d8d-4db1-f959-c91efde5859a"
      },
      "outputs": [
        {
          "data": {
            "text/plain": [
              "[(('13591910', datetime.date(2021, 12, 29)), []),\n",
              " (('16049964', datetime.date(2022, 1, 2)),\n",
              "  [((900242, 7), (900242, 6)),\n",
              "   ((900242, 6), (900241, 3)),\n",
              "   ((900241, 3), (631357, 8)),\n",
              "   ((631357, 8), (900217, 9)),\n",
              "   ((900217, 9), (210602, 2)),\n",
              "   ((210602, 2), (210601, 6)),\n",
              "   ((210601, 6), (100700804, 0))]),\n",
              " (('16245315', datetime.date(2022, 1, 6)), []),\n",
              " (('31189718', datetime.date(2021, 12, 23)),\n",
              "  [((900142, 3), (900212, 1)),\n",
              "   ((900212, 1), (900164, 7)),\n",
              "   ((900164, 7), (631367, 9)),\n",
              "   ((631367, 9), (631719, 12)),\n",
              "   ((631719, 12), (101301, 8))]),\n",
              " (('7775003', datetime.date(2022, 1, 1)), []),\n",
              " (('79210127', datetime.date(2021, 12, 22)), []),\n",
              " (('8455179', datetime.date(2022, 1, 13)),\n",
              "  [((22010031, 1), (155, 12)), ((155, 12), (900242, 9))]),\n",
              " (('85545771', datetime.date(2022, 1, 15)), []),\n",
              " (('86396265', datetime.date(2022, 1, 4)),\n",
              "  [((900191, 3), (175, 7)),\n",
              "   ((175, 7), (900191, 2)),\n",
              "   ((900191, 2), (900256, 5))]),\n",
              " (('8692086', datetime.date(2022, 1, 20)), [])]"
            ]
          },
          "execution_count": 76,
          "metadata": {},
          "output_type": "execute_result"
        }
      ],
      "source": [
        "car_devices_pairs_rdd.take(10)"
      ]
    },
    {
      "cell_type": "code",
      "execution_count": null,
      "metadata": {
        "id": "61K24IkL3H_h"
      },
      "outputs": [],
      "source": [
        "adjacent_device_pairs = car_devices_pairs_rdd.flatMap(lambda x: x[1]).map(lambda x: (x[0][0], x[1][0]))\n",
        "adjacent_device_pairs = adjacent_device_pairs.filter(lambda x: x[0] != x[1])"
      ]
    },
    {
      "cell_type": "code",
      "execution_count": null,
      "metadata": {
        "id": "dzzxhIvf3Kk4"
      },
      "outputs": [],
      "source": [
        "adjacent_device_pairs = adjacent_device_pairs.map(lambda x: ((x[0], x[1]), 1)).reduceByKey(lambda x, y: x + y)\n",
        "adjacent_device_pairs = adjacent_device_pairs.filter(lambda x: x[1] >= 1000)"
      ]
    },
    {
      "cell_type": "code",
      "execution_count": null,
      "metadata": {
        "colab": {
          "base_uri": "https://localhost:8080/"
        },
        "id": "Lvwce5mE3Nb8",
        "outputId": "74c1900b-7860-4352-f264-4fb494309c48"
      },
      "outputs": [
        {
          "data": {
            "text/plain": [
              "[((145, 213402), 1578),\n",
              " ((900161, 631367), 1156),\n",
              " ((100701131, 100701132), 1921),\n",
              " ((631367, 232), 1029),\n",
              " ((900185, 202601), 3460),\n",
              " ((900178, 900202), 1282),\n",
              " ((900255, 231), 83156),\n",
              " ((900243, 900269), 4666),\n",
              " ((631829, 900246), 4269),\n",
              " ((900135, 100700847), 2211)]"
            ]
          },
          "execution_count": 80,
          "metadata": {},
          "output_type": "execute_result"
        }
      ],
      "source": [
        "adjacent_device_pairs.take(10)"
      ]
    },
    {
      "cell_type": "markdown",
      "metadata": {
        "id": "pFc5VzOm2f6u"
      },
      "source": [
        "Now we take two of the adjacent devices, and then we perform the previous calculations on data for each week"
      ]
    },
    {
      "cell_type": "code",
      "execution_count": 18,
      "metadata": {
        "id": "7G4osb_SDRVM"
      },
      "outputs": [],
      "source": [
        "device1, device2 = 145, 213402"
      ]
    },
    {
      "cell_type": "code",
      "execution_count": 23,
      "metadata": {
        "id": "57TZzYaI3R68"
      },
      "outputs": [],
      "source": [
        "joined_rdd1 = rdd1.filter(lambda x: x[1][0] == device1).join(rdd2.filter(lambda x: x[1][0] == device2))"
      ]
    },
    {
      "cell_type": "code",
      "execution_count": 24,
      "metadata": {
        "colab": {
          "base_uri": "https://localhost:8080/"
        },
        "id": "PJv2-ptX3VeR",
        "outputId": "991b36ec-0a8e-4fb0-e6e9-8a51b37e66fd"
      },
      "outputs": [
        {
          "data": {
            "text/plain": [
              "[(('7700395', datetime.date(2021, 12, 31)), ((145, 924), (213402, 797, 52)))]"
            ]
          },
          "execution_count": 24,
          "metadata": {},
          "output_type": "execute_result"
        }
      ],
      "source": [
        "joined_rdd1.take(1)"
      ]
    },
    {
      "cell_type": "code",
      "execution_count": 25,
      "metadata": {
        "id": "M3aQhDBc3YXc"
      },
      "outputs": [],
      "source": [
        "joined_rdd1 = joined_rdd1.filter(lambda x: abs(x[1][0][1] - x[1][1][1]) <= 15)\n",
        "joined_rdd1 = joined_rdd1.map(lambda x: ((x[0][1], x[1][0][1] // 60), 1)).reduceByKey(lambda x, y: x + y)"
      ]
    },
    {
      "cell_type": "code",
      "execution_count": 27,
      "metadata": {
        "id": "GAUu-ykW3a6M"
      },
      "outputs": [],
      "source": [
        "pair_records1 = joined_rdd1.collect()"
      ]
    },
    {
      "cell_type": "code",
      "execution_count": 28,
      "metadata": {
        "colab": {
          "base_uri": "https://localhost:8080/",
          "height": 729
        },
        "id": "MjLTmxim3jKd",
        "outputId": "faa3364c-1dd0-4f49-999c-a0e62ca25dc3"
      },
      "outputs": [
        {
          "data": {
            "image/png": "[encoded data removed]",
            "text/plain": [
              "<Figure size 1440x720 with 1 Axes>"
            ]
          },
          "metadata": {
            "needs_background": "light"
          },
          "output_type": "display_data"
        }
      ],
      "source": [
        "pair_records1 = sorted(pair_records1, key=lambda x: (x[0][0], x[0][1]))\n",
        "pair_records1 = [(convert_to_persian_date(x[0][0]), x[0][1], x[1]) for x in pair_records1]\n",
        "plot_histogram(device1, device2, pair_records1)"
      ]
    },
    {
      "cell_type": "code",
      "execution_count": 19,
      "metadata": {
        "id": "zVzK_VKVWiFk"
      },
      "outputs": [],
      "source": [
        "joined_rdd2 = rdd2.filter(lambda x: x[1][0] == device1).join(rdd2.filter(lambda x: x[1][0] == device2))"
      ]
    },
    {
      "cell_type": "code",
      "execution_count": 20,
      "metadata": {
        "colab": {
          "base_uri": "https://localhost:8080/"
        },
        "id": "_g7qBRTPoBIa",
        "outputId": "4c8d0499-604a-4e75-ed58-fc190bcab2e5"
      },
      "outputs": [
        {
          "data": {
            "text/plain": [
              "[]"
            ]
          },
          "execution_count": 20,
          "metadata": {},
          "output_type": "execute_result"
        }
      ],
      "source": [
        "joined_rdd2.take(1)"
      ]
    },
    {
      "cell_type": "code",
      "execution_count": null,
      "metadata": {
        "colab": {
          "base_uri": "https://localhost:8080/",
          "height": 605
        },
        "id": "eHB9FIS7WpkO",
        "outputId": "871a529f-6ba1-4f2a-cbea-249e7607c7d5"
      },
      "outputs": [],
      "source": [
        "joined_rdd2 = joined_rdd2.filter(lambda x: abs(x[1][0][1] - x[1][1][1]) <= 15)\n",
        "joined_rdd2 = joined_rdd2.map(lambda x: ((x[0][1], x[1][0][1] // 60), 1)).reduceByKey(lambda x, y: x + y)\n",
        "pair_records2 = joined_rdd2.collect()\n",
        "pair_records2 = sorted(pair_records2, key=lambda x: (x[0][0], x[0][1]))\n",
        "pair_records2 = [(convert_to_persian_date(x[0][0]), x[0][1], x[1]) for x in pair_records2]\n",
        "plot_histogram(device1, device2, pair_records2)"
      ]
    },
    {
      "cell_type": "code",
      "execution_count": null,
      "metadata": {
        "id": "6GrJunqIXFiM"
      },
      "outputs": [],
      "source": [
        "joined_rdd3 = rdd3.filter(lambda x: x[1][0] == device1).join(rdd3.filter(lambda x: x[1][0] == device2))\n",
        "joined_rdd3.take(1)"
      ]
    },
    {
      "cell_type": "code",
      "execution_count": null,
      "metadata": {
        "id": "f0Mj3acpXIYN"
      },
      "outputs": [],
      "source": [
        "joined_rdd3 = joined_rdd3.filter(lambda x: abs(x[1][0][1] - x[1][1][1]) <= 15)\n",
        "joined_rdd3 = joined_rdd3.map(lambda x: ((x[0][1], x[1][0][1] // 60), 1)).reduceByKey(lambda x, y: x + y)\n",
        "pair_records3 = joined_rdd3.collect()\n",
        "pair_records3 = sorted(pair_records3, key=lambda x: (x[0][0], x[0][1]))\n",
        "pair_records3 = [(convert_to_persian_date(x[0][0]), x[0][1], x[1]) for x in pair_records3]\n",
        "plot_histogram(device1, device2, pair_records3)"
      ]
    },
    {
      "cell_type": "code",
      "execution_count": null,
      "metadata": {
        "id": "JYzA7M1AXe7G"
      },
      "outputs": [],
      "source": [
        "joined_rdd4 = rdd4.filter(lambda x: x[1][0] == device1).join(rdd4.filter(lambda x: x[1][0] == device2))\n",
        "joined_rdd4.take(1)"
      ]
    },
    {
      "cell_type": "code",
      "execution_count": null,
      "metadata": {
        "id": "A-z4m7VrXg-L"
      },
      "outputs": [],
      "source": [
        "joined_rdd4 = joined_rdd4.filter(lambda x: abs(x[1][0][1] - x[1][1][1]) <= 15)\n",
        "joined_rdd4 = joined_rdd4.map(lambda x: ((x[0][1], x[1][0][1] // 60), 1)).reduceByKey(lambda x, y: x + y)\n",
        "pair_records4 = joined_rdd4.collect()\n",
        "pair_records4 = sorted(pair_records4, key=lambda x: (x[0][0], x[0][1]))\n",
        "pair_records4 = [(convert_to_persian_date(x[0][0]), x[0][1], x[1]) for x in pair_records4]\n",
        "plot_histogram(device1, device2, pair_records4)"
      ]
    }
  ],
  "metadata": {
    "colab": {
      "machine_shape": "hm",
      "provenance": []
    },
    "gpuClass": "standard",
    "kernelspec": {
      "display_name": "myEnv",
      "language": "python",
      "name": "python3"
    },
    "language_info": {
      "codemirror_mode": {
        "name": "ipython",
        "version": 3
      },
      "file_extension": ".py",
      "mimetype": "text/x-python",
      "name": "python",
      "nbconvert_exporter": "python",
      "pygments_lexer": "ipython3",
      "version": "3.8.13"
    },
    "orig_nbformat": 4,
    "vscode": {
      "interpreter": {
        "hash": "17834c5f8fe1aed837634498cfcf8480d7a4681659b9e2d9e3df938711b793bb"
      }
    }
  },
  "nbformat": 4,
  "nbformat_minor": 0
}
