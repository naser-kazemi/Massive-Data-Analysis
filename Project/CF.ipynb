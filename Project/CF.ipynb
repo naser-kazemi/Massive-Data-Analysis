{
  "cells": [
    {
      "cell_type": "code",
      "execution_count": null,
      "metadata": {
        "id": "v7PnarpGa1oc"
      },
      "outputs": [],
      "source": [
        "import os\n",
        "!pip install pyspark\n",
        "!pip install -U -q PyDrive\n",
        "!apt install openjdk-8-jdk-headless -qq\n",
        "os.environ[\"JAVA_HOME\"] = \"/usr/lib/jvm/java-8-openjdk-amd64\""
      ]
    },
    {
      "cell_type": "code",
      "execution_count": 2,
      "metadata": {
        "colab": {
          "base_uri": "https://localhost:8080/"
        },
        "id": "xzSbH81Da1od",
        "outputId": "db9c4cb1-7cbb-4f6b-86ae-75ab20113b50"
      },
      "outputs": [
        {
          "output_type": "stream",
          "name": "stdout",
          "text": [
            "Mounted at /content/drive\n"
          ]
        }
      ],
      "source": [
        "from google.colab import drive\n",
        "drive.mount('/content/drive')"
      ]
    },
    {
      "cell_type": "code",
      "execution_count": 3,
      "metadata": {
        "id": "MTw3vBVia1oe"
      },
      "outputs": [],
      "source": [
        "from pyspark import SparkContext, SparkConf\n",
        "from pyspark.sql import SparkSession\n",
        "from pyspark.sql.types import StructType, StructField, StringType, IntegerType, TimestampType\n",
        "from pyspark.sql.functions import col, current_timestamp, to_date, hour, dayofweek\n",
        "\n",
        "import numpy as np\n",
        "\n",
        "from itertools import combinations"
      ]
    },
    {
      "cell_type": "code",
      "execution_count": 4,
      "metadata": {
        "id": "9P9Zt4Kva1oe"
      },
      "outputs": [],
      "source": [
        "def create_new_spark_context(appName):\n",
        "    return SparkSession.builder.appName(appName)\\\n",
        "        .master(\"local[*]\").getOrCreate()\n",
        "\n",
        "\n",
        "spark_session = create_new_spark_context(\"LSH\")\n",
        "sc = spark_session.sparkContext\n"
      ]
    },
    {
      "cell_type": "code",
      "execution_count": 5,
      "metadata": {
        "id": "YKJlwBdEa1oe"
      },
      "outputs": [],
      "source": [
        "schema = StructType([\n",
        "    StructField(\"DEVICE_CODE\", IntegerType(), True),\n",
        "    StructField(\"SYSTEM_ID\", IntegerType(), True),\n",
        "    StructField(\"ORIGINE_CAR_KEY\", StringType(), True),\n",
        "    StructField(\"FINAL_CAR_KEY\", StringType(), True),\n",
        "    StructField(\"CHECK_STATUS_KEY\", IntegerType(), True),\n",
        "    StructField(\"COMPANY_ID\", StringType(), True),\n",
        "    StructField(\"PASS_DAY_TIME\", TimestampType(), True)\n",
        "])"
      ]
    },
    {
      "cell_type": "code",
      "execution_count": 81,
      "metadata": {
        "id": "l7BG3Lxqa1of"
      },
      "outputs": [],
      "source": [
        "df = spark_session.read.csv(\n",
        "    '/content/drive/MyDrive/MDA/Project/TrafficData.csv', header=True, schema=schema)\n"
      ]
    },
    {
      "cell_type": "markdown",
      "metadata": {
        "id": "ii_VKy9_a1of"
      },
      "source": [
        "First we remove the outliers from the data. Namely the cars that have been recorded more than 1000 times. We can do this by using the following code:"
      ]
    },
    {
      "cell_type": "code",
      "execution_count": 82,
      "metadata": {
        "colab": {
          "base_uri": "https://localhost:8080/"
        },
        "id": "4Wbv9le3a1og",
        "outputId": "4e16ad90-2431-4633-d95c-99cbfb3b7519"
      },
      "outputs": [
        {
          "output_type": "stream",
          "name": "stdout",
          "text": [
            "+-----------+---------+---------------+-------------+----------------+----------+-------------------+-----+\n",
            "|DEVICE_CODE|SYSTEM_ID|ORIGINE_CAR_KEY|FINAL_CAR_KEY|CHECK_STATUS_KEY|COMPANY_ID|      PASS_DAY_TIME|COUNT|\n",
            "+-----------+---------+---------------+-------------+----------------+----------+-------------------+-----+\n",
            "|   22010053|      284|       10000007|     10000007|               5|       161|2022-01-12 06:30:27|    1|\n",
            "|     900233|      283|       10000016|     10000016|               5|       264|2022-01-14 13:57:13|    1|\n",
            "|     900242|      283|       10000048|     10000048|               5|       264|2022-01-09 21:58:56|    9|\n",
            "|     101301|       81|       10000048|     10000048|               5|       161|2022-01-09 21:54:31|    9|\n",
            "|        135|       81|       10000048|     10000048|               5|       161|2022-01-09 21:36:46|    9|\n",
            "+-----------+---------+---------------+-------------+----------------+----------+-------------------+-----+\n",
            "only showing top 5 rows\n",
            "\n"
          ]
        }
      ],
      "source": [
        "# add count column to count the number of records, group by FINAL_CAR_KEY\n",
        "# define a window to count the number of records for each car\n",
        "\n",
        "from pyspark.sql.window import Window\n",
        "from pyspark.sql.functions import count\n",
        "\n",
        "window = Window.partitionBy(\"FINAL_CAR_KEY\")\n",
        "df = df.withColumn(\"COUNT\", count(\"*\").over(window))\n",
        "\n",
        "# remove cars with moe than 1000 records\n",
        "df = df.filter(col(\"COUNT\") < 1000)\n",
        "df.show(5)\n"
      ]
    },
    {
      "cell_type": "markdown",
      "metadata": {
        "id": "a6VAQrtca1oh"
      },
      "source": [
        "Now We filter the cars that have been recorded frequently. For example, those recorded more than 100 times. We can do this by using the following code:"
      ]
    },
    {
      "cell_type": "code",
      "execution_count": 83,
      "metadata": {
        "id": "Je6-wcBHbhHN"
      },
      "outputs": [],
      "source": [
        "# add HOUR_OF_WEEK column\n",
        "from pyspark.sql.functions import hour, dayofweek, col\n",
        "\n",
        "df = df.withColumn(\"HOUR_OF_WEEK\", (dayofweek(col(\"PASS_DAY_TIME\")) - 1) * 24 + hour(col(\"PASS_DAY_TIME\")))\n"
      ]
    },
    {
      "cell_type": "code",
      "execution_count": 84,
      "metadata": {
        "id": "aaGAdw7YbhHO",
        "colab": {
          "base_uri": "https://localhost:8080/"
        },
        "outputId": "101b6e39-3878-41a2-ced6-c27f59691d89"
      },
      "outputs": [
        {
          "output_type": "stream",
          "name": "stdout",
          "text": [
            "+-----------+------------+-----+\n",
            "|DEVICE_CODE|HOUR_OF_WEEK|count|\n",
            "+-----------+------------+-----+\n",
            "|  100700839|         142|  761|\n",
            "|     900222|          81| 3921|\n",
            "|  100700898|         113|    3|\n",
            "|     631361|          89|  957|\n",
            "|     900129|          55|  162|\n",
            "+-----------+------------+-----+\n",
            "only showing top 5 rows\n",
            "\n"
          ]
        }
      ],
      "source": [
        "# select DEVICE_CODE, HOUR_OF_WEEK\n",
        "df = df.select(\"DEVICE_CODE\", \"HOUR_OF_WEEK\", \"FINAL_CAR_KEY\", \"SYSTEM_ID\")\n",
        "\n",
        "# convert to spark rdd and group by key to add the column count of records for device_code, hour_of_week\n",
        "grouped_df = df.groupBy(\"DEVICE_CODE\", \"HOUR_OF_WEEK\").count()\n",
        "grouped_df.show(5)"
      ]
    },
    {
      "cell_type": "markdown",
      "metadata": {
        "id": "WZ46alC7bhHO"
      },
      "source": [
        "## CF using ALS"
      ]
    },
    {
      "cell_type": "markdown",
      "metadata": {
        "id": "dNUrvJqXbhHO"
      },
      "source": [
        "Here we use the Alternating Least Squares (ALS) algorithm to build a collaborative filtering model. We use the pyspark.ml.recommendation.ALS class to build the model."
      ]
    },
    {
      "cell_type": "code",
      "execution_count": 85,
      "metadata": {
        "id": "Jv1JG6_SbhHP"
      },
      "outputs": [],
      "source": [
        "from pyspark.ml.recommendation import ALS\n",
        "\n",
        "\n",
        "# define ALS model\n",
        "als = ALS(maxIter=5,\n",
        "          regParam=0.01,\n",
        "          userCol=\"DEVICE_CODE\",\n",
        "          itemCol=\"HOUR_OF_WEEK\",\n",
        "          ratingCol=\"count\",\n",
        "          coldStartStrategy=\"drop\")\n",
        "\n",
        "\n",
        "# fit the model\n",
        "train, test = grouped_df.randomSplit([0.8, 0.2])\n",
        "model = als.fit(train)\n"
      ]
    },
    {
      "cell_type": "markdown",
      "metadata": {
        "id": "1zO2qq8HbhHP"
      },
      "source": [
        "#### Evaluation\n",
        "\n",
        "We use the Root Mean Squared Error (RMSE) to evaluate the model. We can use the pyspark.ml.evaluation.RegressionEvaluator class to evaluate the model."
      ]
    },
    {
      "cell_type": "code",
      "execution_count": 86,
      "metadata": {
        "id": "AdeWmyEjbhHP"
      },
      "outputs": [],
      "source": [
        "from pyspark.ml.evaluation import RegressionEvaluator\n",
        "\n",
        "# evaluate the model by computing the RMSE on the test data\n",
        "predictions = model.transform(test)\n",
        "evaluator = RegressionEvaluator(metricName=\"rmse\", labelCol=\"count\",\n",
        "                                predictionCol=\"prediction\")\n",
        "\n",
        "rmse = evaluator.evaluate(predictions)"
      ]
    },
    {
      "cell_type": "code",
      "execution_count": 87,
      "metadata": {
        "id": "4LlPQq51bhHP",
        "colab": {
          "base_uri": "https://localhost:8080/"
        },
        "outputId": "05676f8c-c38a-4ded-fc95-fe7385edaa22"
      },
      "outputs": [
        {
          "output_type": "stream",
          "name": "stdout",
          "text": [
            "+-----------+------------+-----+----------+\n",
            "|DEVICE_CODE|HOUR_OF_WEEK|count|prediction|\n",
            "+-----------+------------+-----+----------+\n",
            "|        100|          18| 1026|  960.2455|\n",
            "|        100|          24|  217| 206.23524|\n",
            "|        100|          28|   28| 33.774128|\n",
            "|        100|          59|  622|  532.8242|\n",
            "|        100|          80|  509|  560.1146|\n",
            "+-----------+------------+-----+----------+\n",
            "only showing top 5 rows\n",
            "\n"
          ]
        }
      ],
      "source": [
        "predictions.show(5)"
      ]
    },
    {
      "cell_type": "code",
      "execution_count": 91,
      "metadata": {
        "id": "nO4W_J7jbhHP",
        "colab": {
          "base_uri": "https://localhost:8080/"
        },
        "outputId": "855d66e5-b294-4abd-bd2a-d4ef88630a2d"
      },
      "outputs": [
        {
          "output_type": "stream",
          "name": "stdout",
          "text": [
            "Root-mean-square error = 92.20055391998214\n"
          ]
        }
      ],
      "source": [
        "print(\"Root-mean-square error = \" + str(rmse))"
      ]
    },
    {
      "cell_type": "markdown",
      "metadata": {
        "id": "gOJ5sdVGbhHP"
      },
      "source": [
        "Now we find the most similar devices to the device with id 1. We can do this by using the following code:"
      ]
    },
    {
      "cell_type": "code",
      "source": [
        "# get a random device code\n",
        "rdd = df.rdd.map(lambda x: (x[\"DEVICE_CODE\"], x[\"HOUR_OF_WEEK\"]))\n",
        "rdd = rdd.map(lambda x: ((x[0], x[1]), 1)).reduceByKey(lambda x, y: x + y)\n",
        "device_code = rdd.takeSample(False, 1)[0][0][0]"
      ],
      "metadata": {
        "id": "HMxw_aQQpQEi"
      },
      "execution_count": null,
      "outputs": []
    },
    {
      "cell_type": "code",
      "source": [
        "device_code"
      ],
      "metadata": {
        "colab": {
          "base_uri": "https://localhost:8080/"
        },
        "id": "E85GJD_OFEr6",
        "outputId": "ca15ecbc-6fb3-49e1-b916-c064ad0b769e"
      },
      "execution_count": 99,
      "outputs": [
        {
          "output_type": "execute_result",
          "data": {
            "text/plain": [
              "22010043"
            ]
          },
          "metadata": {},
          "execution_count": 99
        }
      ]
    },
    {
      "cell_type": "code",
      "execution_count": 92,
      "metadata": {
        "id": "F2-eJ4pKbhHQ",
        "colab": {
          "base_uri": "https://localhost:8080/"
        },
        "outputId": "dba258c9-40d5-4e72-9e6f-1afe2ea58acf"
      },
      "outputs": [
        {
          "output_type": "stream",
          "name": "stdout",
          "text": [
            "+-----------+------------------+\n",
            "|device_code|        similarity|\n",
            "+-----------+------------------+\n",
            "|   22010044|0.9670791726505334|\n",
            "|     900227|0.8183656037733871|\n",
            "|   22009973|0.8092162497154531|\n",
            "|     900256|0.7896699275976415|\n",
            "|   22009909|0.7886760237867068|\n",
            "|     635619|0.7747928235649074|\n",
            "|    1001004|0.7736895242287394|\n",
            "|  100701131|0.7671274807129105|\n",
            "|   22010112|0.7598339387431378|\n",
            "|    1001017|0.7490617187759447|\n",
            "+-----------+------------------+\n",
            "only showing top 10 rows\n",
            "\n"
          ]
        }
      ],
      "source": [
        "# get factorized matrices for device_code\n",
        "deviceFactors = model.userFactors\n",
        "\n",
        "# get the row for device_code\n",
        "device_row = deviceFactors.filter(deviceFactors.id == device_code).first()\n",
        "\n",
        "# compute the cosine similarity between device_code and all other device_codes\n",
        "from pyspark.sql.functions import udf\n",
        "from pyspark.sql.types import FloatType\n",
        "\n",
        "def cosine_similarity(v1, v2):\n",
        "    return float(np.dot(v1, v2) / (np.linalg.norm(v1) * np.linalg.norm(v2)))\n",
        "\n",
        "\n",
        "# convert deviceFactors to rdd\n",
        "deviceFactors_rdd = deviceFactors.rdd.map(lambda x: (x[\"id\"], x[\"features\"]))\n",
        "\n",
        "# for each row in deviceFactors, compute the cosine similarity with device_row\n",
        "similarities = deviceFactors_rdd.map(lambda x: (x[0], cosine_similarity(x[1],\n",
        "                                    device_row[\"features\"]))).toDF([\"device_code\", \"similarity\"])\\\n",
        "                                        .filter(col(\"device_code\") != device_code)\n",
        "\n",
        "# get the top 10 similar device_codes\n",
        "similarities.orderBy(col(\"similarity\").desc()).show(10)"
      ]
    },
    {
      "cell_type": "markdown",
      "source": [
        "plot similarity distribution for device_code"
      ],
      "metadata": {
        "id": "ff5SnJbuuZ6O"
      }
    },
    {
      "cell_type": "code",
      "source": [
        "import matplotlib.pyplot as plt\n",
        "\n",
        "similarities_pd = similarities.toPandas()\n",
        "\n",
        "plt.figure(figsize=(20, 10))\n",
        "plt.hist(similarities_pd[\"similarity\"], bins=1000)\n",
        "plt.show()"
      ],
      "metadata": {
        "colab": {
          "base_uri": "https://localhost:8080/",
          "height": 592
        },
        "id": "jtMy4LbsuX-x",
        "outputId": "8df49bc1-df07-4a24-dc11-17eb9a51ce80"
      },
      "execution_count": 40,
      "outputs": [
        {
          "output_type": "display_data",
          "data": {
            "text/plain": [
              "<Figure size 1440x720 with 1 Axes>"
            ],
            "image/png": "[encoded data removed]"
          },
          "metadata": {
            "needs_background": "light"
          }
        }
      ]
    },
    {
      "cell_type": "code",
      "source": [
        "plt.figure(figsize=(20, 10))\n",
        "similarities_pd[\"similarity\"].plot.kde()\n",
        "similarities_pd[\"similarity\"].plot.box()\n",
        "\n",
        "# add label and xticks\n",
        "plt.ylabel(\"Density\")\n",
        "plt.xticks(np.arange(-2.0, 2.1, 0.1))\n",
        "\n",
        "plt.show()\n"
      ],
      "metadata": {
        "colab": {
          "base_uri": "https://localhost:8080/",
          "height": 592
        },
        "id": "qtWQTYAEub02",
        "outputId": "a9e17816-53e3-4ed7-ab7d-7a2e7a711cdc"
      },
      "execution_count": 46,
      "outputs": [
        {
          "output_type": "display_data",
          "data": {
            "text/plain": [
              "<Figure size 1440x720 with 1 Axes>"
            ],
            "image/png": "[encoded data removed]"
          },
          "metadata": {
            "needs_background": "light"
          }
        }
      ]
    },
    {
      "cell_type": "code",
      "source": [
        "# plot bar chart for all device_codes\n",
        "similarities_pd = similarities.toPandas()\n",
        "similarities_pd[\"device_code\"] = similarities_pd[\"device_code\"].astype(str)\n",
        "\n",
        "plt.figure(figsize=(20, 10))\n",
        "plt.bar(similarities_pd[\"device_code\"], (similarities_pd[\"similarity\"] + 1) / 2)\n",
        "plt.xticks(rotation=90)\n",
        "plt.show()"
      ],
      "metadata": {
        "colab": {
          "base_uri": "https://localhost:8080/",
          "height": 639
        },
        "id": "1TVN_QLm1BNY",
        "outputId": "042c1c8f-3701-4981-eae2-9abb0200b0fe"
      },
      "execution_count": 52,
      "outputs": [
        {
          "output_type": "display_data",
          "data": {
            "text/plain": [
              "<Figure size 1440x720 with 1 Axes>"
            ],
            "image/png": "[encoded data removed]"
          },
          "metadata": {
            "needs_background": "light"
          }
        }
      ]
    },
    {
      "cell_type": "code",
      "source": [
        "# get type of top 100 similar device_codes with device_code\n",
        "import pandas as pd\n",
        "\n",
        "# get top 100 similar device_codes\n",
        "top_100 = similarities.orderBy(col(\"similarity\").desc()).limit(100).toPandas()\n",
        "\n",
        "# get the type of each device_code\n",
        "device_code_type = df.select(\"DEVICE_CODE\", \"SYSTEM_ID\").distinct().toPandas()\n",
        "\n",
        "# merge the two dataframes\n",
        "top_100 = pd.merge(top_100, device_code_type, left_on=\"device_code\", right_on=\"DEVICE_CODE\")\n"
      ],
      "metadata": {
        "id": "Mf4EADFc2twz"
      },
      "execution_count": 54,
      "outputs": []
    },
    {
      "cell_type": "code",
      "source": [
        "top_100"
      ],
      "metadata": {
        "colab": {
          "base_uri": "https://localhost:8080/",
          "height": 423
        },
        "id": "1INmH6B13YH1",
        "outputId": "cb12361f-f29a-44c6-b874-300eee61011b"
      },
      "execution_count": 55,
      "outputs": [
        {
          "output_type": "execute_result",
          "data": {
            "text/plain": [
              "    device_code  similarity  DEVICE_CODE  SYSTEM_ID\n",
              "0     100701096    0.964479    100701096        283\n",
              "1        631781    0.949487       631781         81\n",
              "2     100700965    0.939276    100700965        283\n",
              "3        900266    0.938007       900266        283\n",
              "4        900199    0.934916       900199        283\n",
              "..          ...         ...          ...        ...\n",
              "95       710401    0.834061       710401         83\n",
              "96      1001063    0.833629      1001063         83\n",
              "97          102    0.829208          102         81\n",
              "98          106    0.827144          106         81\n",
              "99       900195    0.826369       900195        283\n",
              "\n",
              "[100 rows x 4 columns]"
            ],
            "text/html": [
              "\n",
              "  <div id=\"df-50c8ae00-1624-403a-a001-3c80e1aaef5c\">\n",
              "    <div class=\"colab-df-container\">\n",
              "      <div>\n",
              "<style scoped>\n",
              "    .dataframe tbody tr th:only-of-type {\n",
              "        vertical-align: middle;\n",
              "    }\n",
              "\n",
              "    .dataframe tbody tr th {\n",
              "        vertical-align: top;\n",
              "    }\n",
              "\n",
              "    .dataframe thead th {\n",
              "        text-align: right;\n",
              "    }\n",
              "</style>\n",
              "<table border=\"1\" class=\"dataframe\">\n",
              "  <thead>\n",
              "    <tr style=\"text-align: right;\">\n",
              "      <th></th>\n",
              "      <th>device_code</th>\n",
              "      <th>similarity</th>\n",
              "      <th>DEVICE_CODE</th>\n",
              "      <th>SYSTEM_ID</th>\n",
              "    </tr>\n",
              "  </thead>\n",
              "  <tbody>\n",
              "    <tr>\n",
              "      <th>0</th>\n",
              "      <td>100701096</td>\n",
              "      <td>0.964479</td>\n",
              "      <td>100701096</td>\n",
              "      <td>283</td>\n",
              "    </tr>\n",
              "    <tr>\n",
              "      <th>1</th>\n",
              "      <td>631781</td>\n",
              "      <td>0.949487</td>\n",
              "      <td>631781</td>\n",
              "      <td>81</td>\n",
              "    </tr>\n",
              "    <tr>\n",
              "      <th>2</th>\n",
              "      <td>100700965</td>\n",
              "      <td>0.939276</td>\n",
              "      <td>100700965</td>\n",
              "      <td>283</td>\n",
              "    </tr>\n",
              "    <tr>\n",
              "      <th>3</th>\n",
              "      <td>900266</td>\n",
              "      <td>0.938007</td>\n",
              "      <td>900266</td>\n",
              "      <td>283</td>\n",
              "    </tr>\n",
              "    <tr>\n",
              "      <th>4</th>\n",
              "      <td>900199</td>\n",
              "      <td>0.934916</td>\n",
              "      <td>900199</td>\n",
              "      <td>283</td>\n",
              "    </tr>\n",
              "    <tr>\n",
              "      <th>...</th>\n",
              "      <td>...</td>\n",
              "      <td>...</td>\n",
              "      <td>...</td>\n",
              "      <td>...</td>\n",
              "    </tr>\n",
              "    <tr>\n",
              "      <th>95</th>\n",
              "      <td>710401</td>\n",
              "      <td>0.834061</td>\n",
              "      <td>710401</td>\n",
              "      <td>83</td>\n",
              "    </tr>\n",
              "    <tr>\n",
              "      <th>96</th>\n",
              "      <td>1001063</td>\n",
              "      <td>0.833629</td>\n",
              "      <td>1001063</td>\n",
              "      <td>83</td>\n",
              "    </tr>\n",
              "    <tr>\n",
              "      <th>97</th>\n",
              "      <td>102</td>\n",
              "      <td>0.829208</td>\n",
              "      <td>102</td>\n",
              "      <td>81</td>\n",
              "    </tr>\n",
              "    <tr>\n",
              "      <th>98</th>\n",
              "      <td>106</td>\n",
              "      <td>0.827144</td>\n",
              "      <td>106</td>\n",
              "      <td>81</td>\n",
              "    </tr>\n",
              "    <tr>\n",
              "      <th>99</th>\n",
              "      <td>900195</td>\n",
              "      <td>0.826369</td>\n",
              "      <td>900195</td>\n",
              "      <td>283</td>\n",
              "    </tr>\n",
              "  </tbody>\n",
              "</table>\n",
              "<p>100 rows × 4 columns</p>\n",
              "</div>\n",
              "      <button class=\"colab-df-convert\" onclick=\"convertToInteractive('df-50c8ae00-1624-403a-a001-3c80e1aaef5c')\"\n",
              "              title=\"Convert this dataframe to an interactive table.\"\n",
              "              style=\"display:none;\">\n",
              "        \n",
              "  <svg xmlns=\"http://www.w3.org/2000/svg\" height=\"24px\"viewBox=\"0 0 24 24\"\n",
              "       width=\"24px\">\n",
              "    <path d=\"M0 0h24v24H0V0z\" fill=\"none\"/>\n",
              "    <path d=\"M18.56 5.44l.94 2.06.94-2.06 2.06-.94-2.06-.94-.94-2.06-.94 2.06-2.06.94zm-11 1L8.5 8.5l.94-2.06 2.06-.94-2.06-.94L8.5 2.5l-.94 2.06-2.06.94zm10 10l.94 2.06.94-2.06 2.06-.94-2.06-.94-.94-2.06-.94 2.06-2.06.94z\"/><path d=\"M17.41 7.96l-1.37-1.37c-.4-.4-.92-.59-1.43-.59-.52 0-1.04.2-1.43.59L10.3 9.45l-7.72 7.72c-.78.78-.78 2.05 0 2.83L4 21.41c.39.39.9.59 1.41.59.51 0 1.02-.2 1.41-.59l7.78-7.78 2.81-2.81c.8-.78.8-2.07 0-2.86zM5.41 20L4 18.59l7.72-7.72 1.47 1.35L5.41 20z\"/>\n",
              "  </svg>\n",
              "      </button>\n",
              "      \n",
              "  <style>\n",
              "    .colab-df-container {\n",
              "      display:flex;\n",
              "      flex-wrap:wrap;\n",
              "      gap: 12px;\n",
              "    }\n",
              "\n",
              "    .colab-df-convert {\n",
              "      background-color: #E8F0FE;\n",
              "      border: none;\n",
              "      border-radius: 50%;\n",
              "      cursor: pointer;\n",
              "      display: none;\n",
              "      fill: #1967D2;\n",
              "      height: 32px;\n",
              "      padding: 0 0 0 0;\n",
              "      width: 32px;\n",
              "    }\n",
              "\n",
              "    .colab-df-convert:hover {\n",
              "      background-color: #E2EBFA;\n",
              "      box-shadow: 0px 1px 2px rgba(60, 64, 67, 0.3), 0px 1px 3px 1px rgba(60, 64, 67, 0.15);\n",
              "      fill: #174EA6;\n",
              "    }\n",
              "\n",
              "    [theme=dark] .colab-df-convert {\n",
              "      background-color: #3B4455;\n",
              "      fill: #D2E3FC;\n",
              "    }\n",
              "\n",
              "    [theme=dark] .colab-df-convert:hover {\n",
              "      background-color: #434B5C;\n",
              "      box-shadow: 0px 1px 3px 1px rgba(0, 0, 0, 0.15);\n",
              "      filter: drop-shadow(0px 1px 2px rgba(0, 0, 0, 0.3));\n",
              "      fill: #FFFFFF;\n",
              "    }\n",
              "  </style>\n",
              "\n",
              "      <script>\n",
              "        const buttonEl =\n",
              "          document.querySelector('#df-50c8ae00-1624-403a-a001-3c80e1aaef5c button.colab-df-convert');\n",
              "        buttonEl.style.display =\n",
              "          google.colab.kernel.accessAllowed ? 'block' : 'none';\n",
              "\n",
              "        async function convertToInteractive(key) {\n",
              "          const element = document.querySelector('#df-50c8ae00-1624-403a-a001-3c80e1aaef5c');\n",
              "          const dataTable =\n",
              "            await google.colab.kernel.invokeFunction('convertToInteractive',\n",
              "                                                     [key], {});\n",
              "          if (!dataTable) return;\n",
              "\n",
              "          const docLinkHtml = 'Like what you see? Visit the ' +\n",
              "            '<a target=\"_blank\" href=https://colab.research.google.com/notebooks/data_table.ipynb>data table notebook</a>'\n",
              "            + ' to learn more about interactive tables.';\n",
              "          element.innerHTML = '';\n",
              "          dataTable['output_type'] = 'display_data';\n",
              "          await google.colab.output.renderOutput(dataTable, element);\n",
              "          const docLink = document.createElement('div');\n",
              "          docLink.innerHTML = docLinkHtml;\n",
              "          element.appendChild(docLink);\n",
              "        }\n",
              "      </script>\n",
              "    </div>\n",
              "  </div>\n",
              "  "
            ]
          },
          "metadata": {},
          "execution_count": 55
        }
      ]
    },
    {
      "cell_type": "code",
      "source": [
        "top_100['SYSTEM_ID'].unique()"
      ],
      "metadata": {
        "colab": {
          "base_uri": "https://localhost:8080/"
        },
        "id": "niFXtFjB3cam",
        "outputId": "1f5c46d4-9fc8-4fca-c8f9-d80126c10d17"
      },
      "execution_count": 57,
      "outputs": [
        {
          "output_type": "execute_result",
          "data": {
            "text/plain": [
              "array([283,  81, 182,  83, 102], dtype=int32)"
            ]
          },
          "metadata": {},
          "execution_count": 57
        }
      ]
    },
    {
      "cell_type": "markdown",
      "source": [
        "Here we change the length of time intervals and repeat the computations"
      ],
      "metadata": {
        "id": "K4apJR5I3tt1"
      }
    },
    {
      "cell_type": "code",
      "source": [
        "# use 6 hour intervals\n",
        "new_df = df.withColumn(\"HOUR_OF_WEEK\", ((col(\"HOUR_OF_WEEK\") / 6)).cast(\"integer\"))\n",
        "\n",
        "\n",
        "# select DEVICE_CODE, HOUR_OF_WEEK\n",
        "new_df = new_df.select(\"DEVICE_CODE\", \"HOUR_OF_WEEK\", \"FINAL_CAR_KEY\")\n",
        "\n",
        "# convert to spark rdd and group by key to add the column count of records for device_code, hour_of_week\n",
        "grouped_df = new_df.groupBy(\"DEVICE_CODE\", \"HOUR_OF_WEEK\").count()\n",
        "\n",
        "\n",
        "\n",
        "# define ALS model\n",
        "als = ALS(maxIter=5,\n",
        "          regParam=0.01,\n",
        "          userCol=\"DEVICE_CODE\",\n",
        "          itemCol=\"HOUR_OF_WEEK\",\n",
        "          ratingCol=\"count\",\n",
        "          coldStartStrategy=\"drop\")\n",
        "\n",
        "\n",
        "# fit the model\n",
        "train, test = grouped_df.randomSplit([0.8, 0.2])\n",
        "\n",
        "model = als.fit(train)\n",
        "\n",
        "\n",
        "# evaluate the model by computing the RMSE on the test data\n",
        "predictions = model.transform(test)\n",
        "evaluator = RegressionEvaluator(metricName=\"rmse\", labelCol=\"count\",\n",
        "                                predictionCol=\"prediction\")\n",
        "\n",
        "rmse = evaluator.evaluate(predictions)"
      ],
      "metadata": {
        "id": "JFStdd3A32XC"
      },
      "execution_count": 93,
      "outputs": []
    },
    {
      "cell_type": "code",
      "source": [
        "predictions.show(5)"
      ],
      "metadata": {
        "colab": {
          "base_uri": "https://localhost:8080/"
        },
        "id": "7bz5sV514orp",
        "outputId": "0ad8e46a-3c91-4cd7-ffe5-b8fcded0eb7c"
      },
      "execution_count": 94,
      "outputs": [
        {
          "output_type": "stream",
          "name": "stdout",
          "text": [
            "+-----------+------------+-----+----------+\n",
            "|DEVICE_CODE|HOUR_OF_WEEK|count|prediction|\n",
            "+-----------+------------+-----+----------+\n",
            "|        100|           4|  529| 557.89124|\n",
            "|        100|          19| 4224| 4869.5107|\n",
            "|        101|           3|  239| 245.19199|\n",
            "|        101|          21|  115| 105.95039|\n",
            "|        102|           9|  414| 378.54663|\n",
            "+-----------+------------+-----+----------+\n",
            "only showing top 5 rows\n",
            "\n"
          ]
        }
      ]
    },
    {
      "cell_type": "code",
      "source": [
        "print(\"Root-mean-square error = \" + str(rmse))"
      ],
      "metadata": {
        "colab": {
          "base_uri": "https://localhost:8080/"
        },
        "id": "05d7iZNj4pqJ",
        "outputId": "83b00087-c974-4add-e515-e4bb8c7e744d"
      },
      "execution_count": 96,
      "outputs": [
        {
          "output_type": "stream",
          "name": "stdout",
          "text": [
            "Root-mean-square error = 886.6702653079421\n"
          ]
        }
      ]
    },
    {
      "cell_type": "code",
      "source": [
        "# get factorized matrices for device_code\n",
        "deviceFactors = model.userFactors\n",
        "\n",
        "# get the row for device_code\n",
        "device_row = deviceFactors.filter(deviceFactors.id == device_code).first()\n",
        "\n",
        "\n",
        "# convert deviceFactors to rdd\n",
        "deviceFactors_rdd = deviceFactors.rdd.map(lambda x: (x[\"id\"], x[\"features\"]))\n",
        "\n",
        "# for each row in deviceFactors, compute the cosine similarity with device_row\n",
        "similarities = deviceFactors_rdd.map(lambda x: (x[0], cosine_similarity(x[1],\n",
        "                                    device_row[\"features\"]))).toDF([\"device_code\", \"similarity\"])\\\n",
        "                                        .filter(col(\"device_code\") != device_code)\n",
        "\n",
        "# get the top 10 similar device_codes\n",
        "similarities.orderBy(col(\"similarity\").desc()).show(10)"
      ],
      "metadata": {
        "colab": {
          "base_uri": "https://localhost:8080/"
        },
        "id": "yh0AevOm4yKr",
        "outputId": "313d251b-196a-4053-ee6a-bf39f6558b56"
      },
      "execution_count": 97,
      "outputs": [
        {
          "output_type": "stream",
          "name": "stdout",
          "text": [
            "+-----------+------------------+\n",
            "|device_code|        similarity|\n",
            "+-----------+------------------+\n",
            "|   22010055|0.9595526022964109|\n",
            "|   22010037|0.9323351309597874|\n",
            "|   22009823|0.9030423531924506|\n",
            "|   22010036|   0.8945558401846|\n",
            "|     631932| 0.869717163056744|\n",
            "|     631833|0.8684746345687716|\n",
            "|   22009868|0.8683260015790416|\n",
            "|   22010047|0.8658915635876753|\n",
            "|   22010056| 0.861299180012631|\n",
            "|   22010120|  0.85871985072689|\n",
            "+-----------+------------------+\n",
            "only showing top 10 rows\n",
            "\n"
          ]
        }
      ]
    },
    {
      "cell_type": "markdown",
      "metadata": {
        "id": "ZjnN7JMGbhHQ"
      },
      "source": [
        "## CF With KNN"
      ]
    },
    {
      "cell_type": "code",
      "source": [
        "device_code =114"
      ],
      "metadata": {
        "id": "wjJrrxcsFJEM"
      },
      "execution_count": 100,
      "outputs": []
    },
    {
      "cell_type": "code",
      "execution_count": 28,
      "metadata": {
        "id": "ill3noZAbhHQ"
      },
      "outputs": [],
      "source": [
        "# get paris of (DEVICE_CODE, TIME) with the same time\n",
        "# we do this by joining the rdd with itself on the time, which at first we convert to a key\n",
        "time_device = rdd.map(lambda x: (x[0][1], (x[0][0], x[1])))\n",
        "time_device_pairs = time_device.join(time_device)\n"
      ]
    },
    {
      "cell_type": "code",
      "execution_count": 29,
      "metadata": {
        "id": "xs76suZSbhHQ"
      },
      "outputs": [],
      "source": [
        "# Convert each time and co_counting device pairs to a new vector\n",
        "# keyed on the device pair codes, with the co_counts as their value.\n",
        "\n",
        "def keyOnDevicePair(device_count_pair):\n",
        "    device_1, device_2 = device_count_pair[0][0], device_count_pair[1][0]\n",
        "    device_1_count, device_2_count = device_count_pair[0][1], device_count_pair[1][1]\n",
        "    return (device_1, device_2), (device_1_count, device_2_count)\n",
        "\n",
        "device_time_count_pairs = time_device_pairs.map(lambda x: keyOnDevicePair(x[1]))\\\n",
        "    .filter(lambda x: x[0][0] != x[0][1]).groupByKey()"
      ]
    },
    {
      "cell_type": "code",
      "execution_count": 30,
      "metadata": {
        "id": "owv4kHOIbhHQ"
      },
      "outputs": [],
      "source": [
        "# for each device pair, calculate the cosine similarity\n",
        "\n",
        "def cosine_similarity(device_pair, count_pairs):\n",
        "    \n",
        "    sum_xx, sum_xy, sum_yy = 0, 0, 0\n",
        "    n = 0\n",
        "    \n",
        "    for count_pair in count_pairs:\n",
        "        n += 1\n",
        "        x, y = np.float(count_pair[0]), np.float(count_pair[1])\n",
        "        sum_xx += x * x\n",
        "        sum_yy += y * y\n",
        "        sum_xy += x * y\n",
        "        \n",
        "    sim = sum_xy / np.sqrt(sum_xx * sum_yy) if sum_xx * sum_yy != 0.0 else 0.0\n",
        "    return device_pair, (sim, n)"
      ]
    },
    {
      "cell_type": "code",
      "source": [
        "# get the pairs having the sample device_code\n",
        "device_pairs = device_time_count_pairs.filter(lambda x: x[0][0] == device_code)"
      ],
      "metadata": {
        "id": "RLEiQWRnvOj9"
      },
      "execution_count": 33,
      "outputs": []
    },
    {
      "cell_type": "code",
      "source": [
        "device_pairs.count()"
      ],
      "metadata": {
        "colab": {
          "base_uri": "https://localhost:8080/"
        },
        "id": "nKpjwxUBvthd",
        "outputId": "0b3b83c2-da58-48c0-a685-f8ee5a85df02"
      },
      "execution_count": 34,
      "outputs": [
        {
          "output_type": "execute_result",
          "data": {
            "text/plain": [
              "945"
            ]
          },
          "metadata": {},
          "execution_count": 34
        }
      ]
    },
    {
      "cell_type": "code",
      "execution_count": 35,
      "metadata": {
        "id": "gqOyrkrzbhHR"
      },
      "outputs": [],
      "source": [
        "device_pairs = device_pairs.map(lambda x: cosine_similarity(x[0], x[1]))"
      ]
    },
    {
      "cell_type": "code",
      "source": [
        "# get the top 10 similar device_codes for the random device_code\n",
        "device_pairs.sortBy(lambda x: x[1][0], ascending=False).take(10)"
      ],
      "metadata": {
        "id": "TCNnbzapkMVh",
        "colab": {
          "base_uri": "https://localhost:8080/"
        },
        "outputId": "e964a28d-1f3a-43c9-b326-d7548470648a"
      },
      "execution_count": 37,
      "outputs": [
        {
          "output_type": "execute_result",
          "data": {
            "text/plain": [
              "[((114, 210142), (1.0, 1)),\n",
              " ((114, 22010114), (0.9906682527215792, 6)),\n",
              " ((114, 900266), (0.9896882979632247, 168)),\n",
              " ((114, 900235), (0.9894178605064041, 168)),\n",
              " ((114, 100700871), (0.9879138827337552, 168)),\n",
              " ((114, 100700812), (0.9870927560704167, 168)),\n",
              " ((114, 100701096), (0.9868160968319144, 153)),\n",
              " ((114, 100), (0.985013986845675, 168)),\n",
              " ((114, 206602), (0.984678138499174, 168)),\n",
              " ((114, 100700894), (0.984510516241513, 168))]"
            ]
          },
          "metadata": {},
          "execution_count": 37
        }
      ]
    }
  ],
  "metadata": {
    "colab": {
      "machine_shape": "hm",
      "provenance": []
    },
    "gpuClass": "standard",
    "kernelspec": {
      "display_name": "Python 3",
      "language": "python",
      "name": "python3"
    },
    "language_info": {
      "name": "python",
      "version": "3.7.12"
    },
    "orig_nbformat": 4,
    "vscode": {
      "interpreter": {
        "hash": "4b85476f8a8c66458125e4494b074b08682b86c1bead5e2a756dce2b0ce06c08"
      }
    }
  },
  "nbformat": 4,
  "nbformat_minor": 0
}