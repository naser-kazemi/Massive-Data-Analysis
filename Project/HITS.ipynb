{
  "cells": [
    {
      "cell_type": "code",
      "execution_count": null,
      "metadata": {
        "id": "waR3LspYY_qH"
      },
      "outputs": [],
      "source": [
        "import os\n",
        "!pip install pyspark\n",
        "!pip install -U -q PyDrive\n",
        "!apt install openjdk-8-jdk-headless -qq\n",
        "os.environ[\"JAVA_HOME\"] = \"/usr/lib/jvm/java-8-openjdk-amd64\""
      ]
    },
    {
      "cell_type": "code",
      "execution_count": 2,
      "metadata": {
        "colab": {
          "base_uri": "https://localhost:8080/"
        },
        "id": "hHH0H8TUY_qR",
        "outputId": "6e94ff5d-5659-40cf-9deb-eaec42e3af94"
      },
      "outputs": [
        {
          "name": "stdout",
          "output_type": "stream",
          "text": [
            "Mounted at /content/drive\n"
          ]
        }
      ],
      "source": [
        "from google.colab import drive\n",
        "drive.mount('/content/drive')"
      ]
    },
    {
      "cell_type": "code",
      "execution_count": 3,
      "metadata": {
        "id": "cLaVY086Y_qR"
      },
      "outputs": [],
      "source": [
        "from pyspark import SparkContext, SparkConf\n",
        "from pyspark.sql import SparkSession\n",
        "from pyspark.sql.types import StructType, StructField, StringType, IntegerType, TimestampType\n",
        "from pyspark.sql.functions import col, current_timestamp, to_date, hour, dayofweek\n",
        "\n",
        "import numpy as np\n",
        "\n",
        "from itertools import combinations"
      ]
    },
    {
      "cell_type": "code",
      "execution_count": 4,
      "metadata": {
        "id": "8BT3cf-lY_qR"
      },
      "outputs": [],
      "source": [
        "def create_new_spark_context(appName):\n",
        "    return SparkSession.builder.appName(appName)\\\n",
        "        .master(\"local[*]\").getOrCreate()\n",
        "\n",
        "\n",
        "spark_session = create_new_spark_context(\"LSH\")\n",
        "sc = spark_session.sparkContext\n"
      ]
    },
    {
      "cell_type": "code",
      "execution_count": 5,
      "metadata": {
        "id": "xxWepJfxY_qR"
      },
      "outputs": [],
      "source": [
        "schema = StructType([\n",
        "    StructField(\"DEVICE_CODE\", IntegerType(), True),\n",
        "    StructField(\"SYSTEM_ID\", IntegerType(), True),\n",
        "    StructField(\"ORIGINE_CAR_KEY\", StringType(), True),\n",
        "    StructField(\"FINAL_CAR_KEY\", StringType(), True),\n",
        "    StructField(\"CHECK_STATUS_KEY\", IntegerType(), True),\n",
        "    StructField(\"COMPANY_ID\", StringType(), True),\n",
        "    StructField(\"PASS_DAY_TIME\", TimestampType(), True)\n",
        "])"
      ]
    },
    {
      "cell_type": "code",
      "execution_count": 67,
      "metadata": {
        "id": "v1Op0DvUY_qS"
      },
      "outputs": [],
      "source": [
        "df = spark_session.read.csv(\n",
        "    '/content/drive/MyDrive/MDA/Project/TrafficData.csv', header=True, schema=schema)\n"
      ]
    },
    {
      "cell_type": "markdown",
      "metadata": {
        "id": "n20jqiLykwyO"
      },
      "source": [
        "First we remove the outliers from the data. Namely the cars that have been recorded more than 1000 times. We can do this by using the following code:"
      ]
    },
    {
      "cell_type": "code",
      "execution_count": 68,
      "metadata": {
        "colab": {
          "base_uri": "https://localhost:8080/"
        },
        "id": "0OVNE3YoY_qS",
        "outputId": "a74f64ab-4929-4fcb-b39a-80d8537ad64a"
      },
      "outputs": [
        {
          "name": "stdout",
          "output_type": "stream",
          "text": [
            "+-----------+---------+---------------+-------------+----------------+----------+-------------------+-----+\n",
            "|DEVICE_CODE|SYSTEM_ID|ORIGINE_CAR_KEY|FINAL_CAR_KEY|CHECK_STATUS_KEY|COMPANY_ID|      PASS_DAY_TIME|COUNT|\n",
            "+-----------+---------+---------------+-------------+----------------+----------+-------------------+-----+\n",
            "|   22010053|      284|       10000007|     10000007|               5|       161|2022-01-12 06:30:27|    1|\n",
            "|     900233|      283|       10000016|     10000016|               5|       264|2022-01-14 13:57:13|    1|\n",
            "|     900242|      283|       10000048|     10000048|               5|       264|2022-01-09 21:58:56|    9|\n",
            "|     101301|       81|       10000048|     10000048|               5|       161|2022-01-09 21:54:31|    9|\n",
            "|        135|       81|       10000048|     10000048|               5|       161|2022-01-09 21:36:46|    9|\n",
            "+-----------+---------+---------------+-------------+----------------+----------+-------------------+-----+\n",
            "only showing top 5 rows\n",
            "\n"
          ]
        }
      ],
      "source": [
        "# add count column to count the number of records, group by FINAL_CAR_KEY\n",
        "# define a window to count the number of records for each car\n",
        "\n",
        "from pyspark.sql.window import Window\n",
        "from pyspark.sql.functions import count\n",
        "\n",
        "window = Window.partitionBy(\"FINAL_CAR_KEY\")\n",
        "df = df.withColumn(\"COUNT\", count(\"*\").over(window))\n",
        "\n",
        "# remove cars with moe than 1000 records\n",
        "df = df.filter(col(\"COUNT\") < 1000)\n",
        "df.show(5)\n"
      ]
    },
    {
      "cell_type": "markdown",
      "metadata": {
        "id": "8HsKfPQJY_qS"
      },
      "source": [
        "## HITS Algorithm"
      ]
    },
    {
      "cell_type": "code",
      "execution_count": 69,
      "metadata": {
        "id": "0b3HTa1lY_qS"
      },
      "outputs": [],
      "source": [
        "# add column TIME with the hour of the week\n",
        "df = df.withColumn(\"TIME\", hour(\"PASS_DAY_TIME\") + (dayofweek(\"PASS_DAY_TIME\") - 1) * 24)"
      ]
    },
    {
      "cell_type": "code",
      "execution_count": 70,
      "metadata": {
        "id": "B9navX2MY_qT"
      },
      "outputs": [],
      "source": [
        "# select DEVICE_CODE, FINAL_CAR_KEY, TIME\n",
        "df = df.select(\"DEVICE_CODE\", \"FINAL_CAR_KEY\", \"TIME\")\n",
        "\n",
        "# convert to spark rdd\n",
        "rdd = df.rdd\n",
        "\n",
        "# get number of records grouped by (DEVICE_CODE, TIME)\n",
        "rdd = rdd.map(lambda x: ((x[0], x[2]), 1)).reduceByKey(lambda x, y: x + y)"
      ]
    },
    {
      "cell_type": "markdown",
      "metadata": {
        "id": "Rf-jEEc1Y_qT"
      },
      "source": [
        "Now We Create a matrix, entry of which is the number of times a device has recorded a car at a given time. We use the following code:"
      ]
    },
    {
      "cell_type": "code",
      "execution_count": 72,
      "metadata": {
        "colab": {
          "base_uri": "https://localhost:8080/"
        },
        "id": "LWTbIoLxY_qT",
        "outputId": "108e674b-3d61-4fa7-9b75-d08084cfe94d"
      },
      "outputs": [
        {
          "data": {
            "text/plain": [
              "[MatrixEntry(900242, 108, 1121.0),\n",
              " MatrixEntry(100701303, 108, 941.0),\n",
              " MatrixEntry(200301, 103, 180.0),\n",
              " MatrixEntry(900222, 13, 3710.0),\n",
              " MatrixEntry(631608, 80, 463.0)]"
            ]
          },
          "execution_count": 72,
          "metadata": {},
          "output_type": "execute_result"
        }
      ],
      "source": [
        "# create matrix with rows as devices and columns as hours of the week, and values as number of records\n",
        "# we can build the matrix using CoordinateMatrix from pyspark.mllib.linalg.distributed\n",
        "\n",
        "from pyspark.mllib.linalg.distributed import CoordinateMatrix, MatrixEntry\n",
        "\n",
        "matrix_rdd = rdd.map(lambda x: MatrixEntry(x[0][0], x[0][1], x[1]))\n",
        "device_time_matrix = CoordinateMatrix(matrix_rdd)\n",
        "device_time_matrix.entries.take(5)"
      ]
    },
    {
      "cell_type": "markdown",
      "metadata": {
        "id": "PWs5GYWLY_qT"
      },
      "source": [
        "To find the authority and hub scores, we can perform an SVD on the matrix. By Doing this we can find the top 10 devices with the highest authority and hub scores. In other words, we can find the top 10 devices that are most likely to be the source of the traffic and the top 10 devices that are most likely to be the destination of the traffic. This top 10 devices are in fact the top 10 largest eigenvalues computed by the SVD. We use the following code:"
      ]
    },
    {
      "cell_type": "code",
      "execution_count": 73,
      "metadata": {
        "id": "SdobvpLzY_qU"
      },
      "outputs": [],
      "source": [
        "# first we perform svd on the computed matrix\n",
        "svd = device_time_matrix.toRowMatrix().computeSVD(10, computeU=True)\n",
        "\n",
        "# get U, S, V\n",
        "U = svd.U\n",
        "S = svd.s\n",
        "V = svd.V"
      ]
    },
    {
      "cell_type": "markdown",
      "metadata": {
        "id": "_BmWY419Y_qU"
      },
      "source": [
        "Now we get the top 10 devices with the highest authority and hub scores. Their scores are entries of U and V. We use the following code:"
      ]
    },
    {
      "cell_type": "code",
      "execution_count": 74,
      "metadata": {
        "colab": {
          "base_uri": "https://localhost:8080/"
        },
        "id": "wuo9xpsDY_qU",
        "outputId": "f898836e-e28d-419d-d5eb-a9a067c300be"
      },
      "outputs": [
        {
          "name": "stdout",
          "output_type": "stream",
          "text": [
            "Number of hubs: 946\n",
            "Number of authorities: 168\n",
            "Top 10 hubs: [0.2531169699664147, 0.2524813941564994, 0.22036848099587503, 0.2137319988798504, 0.19965607571934782, 0.19566547221941127, 0.17116661047197296, 0.16943379209686557, 0.15944431135849144, 0.14907343581264584]\n",
            "Top 10 authorities: [0.12407527218445596, 0.12124680844300346, 0.11680380787310192, 0.11475483280008751, 0.11381677461287641, 0.11100033960926878, 0.11038238061469038, 0.10784539885805848, 0.10593109102020785, 0.10563438686629788]\n"
          ]
        }
      ],
      "source": [
        "hubs = U.rows.map(lambda row: -row.toArray()[0]).collect()\n",
        "authorities = -V.toArray()[:, 0]\n",
        "\n",
        "print(f'Number of hubs: {len(hubs)}')\n",
        "print(f'Number of authorities: {len(authorities)}')\n",
        "\n",
        "# print score of the top 10 hubs and authorities\n",
        "print(f'Top 10 hubs: {sorted(hubs, reverse=True)[:10]}')\n",
        "print(f'Top 10 authorities: {sorted(authorities, reverse=True)[:10]}')"
      ]
    },
    {
      "cell_type": "markdown",
      "metadata": {
        "id": "8wSNZvoqY_qU"
      },
      "source": [
        "### Plotting the results"
      ]
    },
    {
      "cell_type": "markdown",
      "metadata": {
        "id": "ADEGE4gdY_qU"
      },
      "source": [
        "Now we plot the results. For each time of the week, which is an authority, we plot the authority score of each one. We use the following code:"
      ]
    },
    {
      "cell_type": "code",
      "execution_count": 75,
      "metadata": {
        "colab": {
          "base_uri": "https://localhost:8080/",
          "height": 415
        },
        "id": "z7p2oigyY_qU",
        "outputId": "6f786a83-db79-4d6a-b1c0-036ff8876f2c"
      },
      "outputs": [
        {
          "data": {
            "image/png": "[encoded data removed]",
            "text/plain": [
              "<Figure size 2880x720 with 1 Axes>"
            ]
          },
          "metadata": {
            "needs_background": "light"
          },
          "output_type": "display_data"
        }
      ],
      "source": [
        "# plot authority scores\n",
        "\n",
        "import matplotlib.pyplot as plt\n",
        "\n",
        "plt.figure(figsize=(40, 10))\n",
        " \n",
        "\n",
        "plt.bar(np.arange(168), authorities, width=0.5)\n",
        "plt.xticks(np.arange(0, 168, 24), ['Mon 0', 'Tue 24', 'Wed 48', 'Thu 72', 'Fri 96', 'Sat 120', 'Sun 144'])\n",
        "plt.xlabel('Hour of the week')\n",
        "plt.ylabel('Authority score')\n",
        "plt.title('Authority score for each hour of the week')\n",
        "plt.show()"
      ]
    },
    {
      "cell_type": "code",
      "execution_count": 76,
      "metadata": {
        "colab": {
          "base_uri": "https://localhost:8080/"
        },
        "id": "J5ijR5cVnBbC",
        "outputId": "4e5b6826-840e-4429-abab-4763fd4dc0f4"
      },
      "outputs": [
        {
          "data": {
            "text/plain": [
              "541"
            ]
          },
          "execution_count": 76,
          "metadata": {},
          "output_type": "execute_result"
        }
      ],
      "source": [
        "hubs = np.array(hubs)\n",
        "np.argmax(hubs)"
      ]
    },
    {
      "cell_type": "code",
      "execution_count": 78,
      "metadata": {
        "colab": {
          "base_uri": "https://localhost:8080/",
          "height": 415
        },
        "id": "lfPhzW4Um9yq",
        "outputId": "215954e3-1410-46a2-e0c6-c01898c45b78"
      },
      "outputs": [
        {
          "data": {
            "image/png": "[encoded data removed]",
            "text/plain": [
              "<Figure size 2880x720 with 1 Axes>"
            ]
          },
          "metadata": {
            "needs_background": "light"
          },
          "output_type": "display_data"
        }
      ],
      "source": [
        "# plot hub scores\n",
        "\n",
        "plt.figure(figsize=(40, 10))\n",
        "\n",
        "\n",
        "plt.bar(np.arange(946), hubs)\n",
        "plt.xticks(np.arange(0, 946, 1))\n",
        "plt.xlabel('Device code')\n",
        "plt.ylabel('Hub score')\n",
        "plt.title('Hub score for each device')\n",
        "plt.show()"
      ]
    }
  ],
  "metadata": {
    "colab": {
      "machine_shape": "hm",
      "provenance": []
    },
    "gpuClass": "standard",
    "kernelspec": {
      "display_name": "Python 3",
      "language": "python",
      "name": "python3"
    },
    "language_info": {
      "name": "python",
      "version": "3.7.12"
    },
    "orig_nbformat": 4,
    "vscode": {
      "interpreter": {
        "hash": "4b85476f8a8c66458125e4494b074b08682b86c1bead5e2a756dce2b0ce06c08"
      }
    }
  },
  "nbformat": 4,
  "nbformat_minor": 0
}
