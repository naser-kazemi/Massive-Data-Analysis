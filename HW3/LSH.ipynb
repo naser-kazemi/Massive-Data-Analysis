{
  "cells": [
    {
      "cell_type": "code",
      "execution_count": 37,
      "metadata": {
        "colab": {
          "base_uri": "https://localhost:8080/"
        },
        "id": "k-qHai2252mI",
        "outputId": "05236919-f086-4086-cb37-5758a7fe900f"
      },
      "outputs": [
        {
          "name": "stdout",
          "output_type": "stream",
          "text": [
            "Looking in indexes: https://pypi.org/simple, https://us-python.pkg.dev/colab-wheels/public/simple/\n",
            "Requirement already satisfied: pyspark in /usr/local/lib/python3.8/dist-packages (3.3.1)\n",
            "Requirement already satisfied: py4j==0.10.9.5 in /usr/local/lib/python3.8/dist-packages (from pyspark) (0.10.9.5)\n",
            "openjdk-8-jdk-headless is already the newest version (8u352-ga-1~20.04).\n",
            "0 upgraded, 0 newly installed, 0 to remove and 23 not upgraded.\n"
          ]
        }
      ],
      "source": [
        "import os\n",
        "!pip install pyspark\n",
        "!pip install -U -q PyDrive\n",
        "!apt install openjdk-8-jdk-headless -qq\n",
        "os.environ[\"JAVA_HOME\"] = \"/usr/lib/jvm/java-8-openjdk-amd64\""
      ]
    },
    {
      "cell_type": "code",
      "execution_count": null,
      "metadata": {
        "id": "5K93ABEy9Zlo"
      },
      "outputs": [],
      "source": [
        "from google.colab import drive\n",
        "drive.mount('/content/drive')"
      ]
    },
    {
      "cell_type": "code",
      "execution_count": 38,
      "metadata": {
        "id": "lDh957r_0snm"
      },
      "outputs": [],
      "source": [
        "from pyspark import SparkContext, SparkConf\n",
        "from pyspark.sql import SparkSession\n",
        "from pyspark.sql.types import StructType, StructField, StringType, IntegerType, TimestampType\n",
        "from pyspark.sql.functions import col, current_timestamp, to_date, hour, dayofweek\\\n",
        "\n",
        "import numpy as np\n",
        "\n",
        "from itertools import combinations"
      ]
    },
    {
      "cell_type": "code",
      "execution_count": 39,
      "metadata": {
        "id": "0oWocdNsm8tQ"
      },
      "outputs": [],
      "source": [
        "def create_new_spark_context(appName):\n",
        "    return SparkSession.builder.appName(appName)\\\n",
        "        .master(\"local[*]\").getOrCreate()\n",
        "\n",
        "\n",
        "spark_session = create_new_spark_context(\"LSH\")\n",
        "sc = spark_session.sparkContext\n"
      ]
    },
    {
      "cell_type": "code",
      "execution_count": 40,
      "metadata": {
        "id": "h9XsMaT8m8tQ"
      },
      "outputs": [],
      "source": [
        "schema = StructType([\n",
        "    StructField(\"DEVICE_CODE\", IntegerType(), True),\n",
        "    StructField(\"SYSTEM_ID\", IntegerType(), True),\n",
        "    StructField(\"ORIGINE_CAR_KEY\", StringType(), True),\n",
        "    StructField(\"FINAL_CAR_KEY\", StringType(), True),\n",
        "    StructField(\"CHECK_STATUS_KEY\", IntegerType(), True),\n",
        "    StructField(\"COMPANY_ID\", StringType(), True),\n",
        "    StructField(\"PASS_DAY_TIME\", TimestampType(), True)\n",
        "])\n"
      ]
    },
    {
      "cell_type": "code",
      "execution_count": 41,
      "metadata": {
        "colab": {
          "base_uri": "https://localhost:8080/"
        },
        "id": "MLX6x-Ubm8tQ",
        "outputId": "e832ab00-8c8e-4c3c-ab2a-a2b74602995c"
      },
      "outputs": [
        {
          "name": "stdout",
          "output_type": "stream",
          "text": [
            "+-----------+---------+---------------+-------------+----------------+----------+-------------------+\n",
            "|DEVICE_CODE|SYSTEM_ID|ORIGINE_CAR_KEY|FINAL_CAR_KEY|CHECK_STATUS_KEY|COMPANY_ID|      PASS_DAY_TIME|\n",
            "+-----------+---------+---------------+-------------+----------------+----------+-------------------+\n",
            "|   22010122|      284|       97955760|     64111706|               7|       161|2022-01-10 08:58:02|\n",
            "+-----------+---------+---------------+-------------+----------------+----------+-------------------+\n",
            "only showing top 1 row\n",
            "\n"
          ]
        }
      ],
      "source": [
        "df = spark_session.read.csv(\n",
        "    '/content/drive/MyDrive/MDA/HW3/TrafficData.csv', header=True, schema=schema)\n",
        "df.show(1)\n"
      ]
    },
    {
      "cell_type": "code",
      "execution_count": 42,
      "metadata": {
        "id": "CGoJ3OTX3Lz_"
      },
      "outputs": [],
      "source": [
        "traffic_rdd = df.rdd.map(lambda x: ((x[\"FINAL_CAR_KEY\"], x[\"PASS_DAY_TIME\"].date()), x[\"DEVICE_CODE\"]))\\\n",
        "                    .groupByKey()\\\n",
        "                    .map(lambda x: (x[0], set(x[1])))\n"
      ]
    },
    {
      "cell_type": "code",
      "execution_count": 43,
      "metadata": {
        "colab": {
          "base_uri": "https://localhost:8080/"
        },
        "id": "3g1eaJfrEWAE",
        "outputId": "113264a7-0c72-4034-dd9b-17ed9aaf4201"
      },
      "outputs": [
        {
          "data": {
            "text/plain": [
              "946"
            ]
          },
          "execution_count": 43,
          "metadata": {},
          "output_type": "execute_result"
        }
      ],
      "source": [
        "# make a numpy array with size of the number of distinct device codes\n",
        "device_codes = traffic_rdd.flatMap(lambda x: tuple(x[1])).distinct().collect()\n",
        "num_device = len(device_codes)\n",
        "num_device"
      ]
    },
    {
      "cell_type": "code",
      "execution_count": 44,
      "metadata": {
        "id": "K3popxXyfMNH"
      },
      "outputs": [],
      "source": [
        "# hash function to map each device code to a number between 0 and num_device\n",
        "device_index_map = {}\n",
        "for i in range(num_device):\n",
        "    device_index_map[device_codes[i]] = i"
      ]
    },
    {
      "cell_type": "code",
      "execution_count": 45,
      "metadata": {
        "id": "2BhjMMEFm8tR"
      },
      "outputs": [],
      "source": [
        "path_vec = np.zeros(num_device)\n",
        "indices = np.random.choice(np.arange(num_device), replace=False,\n",
        "                           size=int(num_device * 0.8))\n",
        "path_vec[indices] = 1\n",
        "path = []\n",
        "for i in range(len(path_vec)):\n",
        "    if path_vec[i] == 1:\n",
        "        path.append(device_codes[i])\n"
      ]
    },
    {
      "cell_type": "code",
      "execution_count": 46,
      "metadata": {
        "colab": {
          "base_uri": "https://localhost:8080/"
        },
        "id": "XlYzvq5Zm8tR",
        "outputId": "c492ecf1-eb02-4fd2-def4-26013f150a72"
      },
      "outputs": [
        {
          "data": {
            "text/plain": [
              "756"
            ]
          },
          "execution_count": 46,
          "metadata": {},
          "output_type": "execute_result"
        }
      ],
      "source": [
        "len(path)"
      ]
    },
    {
      "cell_type": "code",
      "execution_count": 47,
      "metadata": {
        "colab": {
          "base_uri": "https://localhost:8080/"
        },
        "id": "0vwwumdyxvu5",
        "outputId": "dcc29254-3940-4579-f523-047dc9322754"
      },
      "outputs": [
        {
          "data": {
            "text/plain": [
              "[(('64111706', datetime.date(2022, 1, 10)), 0.8395095799193328),\n",
              " (('64111706', datetime.date(2022, 1, 8)), 0.8390337632522099),\n",
              " (('64111706', datetime.date(2022, 1, 11)), 0.8378173112911534),\n",
              " (('64111706', datetime.date(2022, 1, 12)), 0.8240384548552595),\n",
              " (('64111706', datetime.date(2022, 1, 9)), 0.8232996903942893)]"
            ]
          },
          "execution_count": 47,
          "metadata": {},
          "output_type": "execute_result"
        }
      ],
      "source": [
        "def path_similarity(x):\n",
        "    similarity = 0\n",
        "    for device_code in x:\n",
        "        similarity += path_vec[device_index_map[device_code]]\n",
        "    return similarity / ((len(x) ** 0.5) * len(path) ** 0.5)\n",
        "\n",
        "\n",
        "most_similar_path = traffic_rdd.map(lambda x: (x[0], path_similarity(x[1]))).sortBy(lambda x: x[-1], ascending=False)\n",
        "most_similar_path.take(5)"
      ]
    },
    {
      "cell_type": "code",
      "execution_count": 48,
      "metadata": {
        "colab": {
          "base_uri": "https://localhost:8080/"
        },
        "id": "GQKYx0Nrm8tS",
        "outputId": "bd12562b-3564-423a-a2e8-5cfb65197c78"
      },
      "outputs": [
        {
          "data": {
            "text/plain": [
              "array([[-1., -1., -1., ...,  1.,  1., -1.],\n",
              "       [-1., -1., -1., ..., -1.,  1., -1.],\n",
              "       [ 1.,  1.,  1., ...,  1., -1.,  1.],\n",
              "       ...,\n",
              "       [ 1.,  1., -1., ..., -1., -1., -1.],\n",
              "       [-1.,  1.,  1., ..., -1.,  1.,  1.],\n",
              "       [-1., -1., -1., ..., -1.,  1.,  1.]])"
            ]
          },
          "execution_count": 48,
          "metadata": {},
          "output_type": "execute_result"
        }
      ],
      "source": [
        "b = 10\n",
        "r = 15\n",
        "num_planes = b * r\n",
        "\n",
        "random_planes = []\n",
        "for i in range(num_planes):\n",
        "    random_planes.append(np.random.choice([-1.0, 1.0], size=num_device))\n",
        "random_planes = np.array(random_planes)\n",
        "random_planes"
      ]
    },
    {
      "cell_type": "code",
      "execution_count": 49,
      "metadata": {
        "id": "30IC65yoE-5Q"
      },
      "outputs": [],
      "source": [
        "def calculate_hash(x):\n",
        "    items = x\n",
        "    lst = \"\"\n",
        "    for plane in random_planes:\n",
        "        i = 0\n",
        "        for item in items:\n",
        "            i += plane[device_index_map[item]]\n",
        "        z = 1\n",
        "        if i < 0:\n",
        "            z = 0\n",
        "        lst += str(z)\n",
        "    return lst\n",
        "\n",
        "hashed = traffic_rdd.map(lambda x : (x[0], calculate_hash(x[1])))"
      ]
    },
    {
      "cell_type": "code",
      "execution_count": 50,
      "metadata": {
        "id": "imsYKeFXm8tS"
      },
      "outputs": [],
      "source": [
        "def hash_vector(x):\n",
        "    hash_values = []\n",
        "    for plane in random_planes:\n",
        "        hash_value = 0\n",
        "        for code in x:\n",
        "            hash_value += plane[device_index_map[code]]\n",
        "        hash_values.append(hash_value)\n",
        "    sig = \"\".join([\"1\" if x > 0 else \"0\" for x in hash_values])\n",
        "    return sig\n"
      ]
    },
    {
      "cell_type": "code",
      "execution_count": 51,
      "metadata": {
        "id": "SrKLLPt4m8tT"
      },
      "outputs": [],
      "source": [
        "hashed_path = hash_vector(path)"
      ]
    },
    {
      "cell_type": "code",
      "execution_count": 52,
      "metadata": {
        "id": "9ZNQp001dYnj"
      },
      "outputs": [],
      "source": [
        "def match_hash(x):\n",
        "    first = 0\n",
        "    last = r-1\n",
        "    for i in range(b):\n",
        "        if hashed_path[first:last] == x[first:last]:\n",
        "            return True\n",
        "        first += r\n",
        "        last += r\n",
        "    return False"
      ]
    },
    {
      "cell_type": "code",
      "execution_count": 53,
      "metadata": {
        "colab": {
          "base_uri": "https://localhost:8080/"
        },
        "id": "yYwm3JEVJQo6",
        "outputId": "67b9bc5b-d7fc-446d-da42-3742e85adab4"
      },
      "outputs": [
        {
          "data": {
            "text/plain": [
              "5237"
            ]
          },
          "execution_count": 53,
          "metadata": {},
          "output_type": "execute_result"
        }
      ],
      "source": [
        "candidates = hashed.filter(lambda x: match_hash(x[1])).collect()\n",
        "len(candidates)"
      ]
    },
    {
      "cell_type": "code",
      "execution_count": 54,
      "metadata": {
        "id": "hFWtIM6Oe2yB"
      },
      "outputs": [],
      "source": [
        "unique_candidates = set(map(lambda x: tuple(x[0]), candidates))"
      ]
    },
    {
      "cell_type": "code",
      "execution_count": 55,
      "metadata": {
        "id": "cn9MZo4vm8tU"
      },
      "outputs": [],
      "source": [
        "# get the most similar path from the candidates\n",
        "threshold = 0.8\n",
        "\n",
        "most_similar_path = traffic_rdd.map(lambda x: (x[0], (tuple(x[1]), path_similarity(x[1]))))\\\n",
        "    .filter(lambda x: x[0] in unique_candidates)\\\n",
        "    .filter(lambda x: x[1][1] > threshold)\\\n",
        "    .collect()\n"
      ]
    },
    {
      "cell_type": "code",
      "execution_count": 56,
      "metadata": {
        "colab": {
          "base_uri": "https://localhost:8080/"
        },
        "id": "iWqYDgokm8tU",
        "outputId": "7255038c-7621-4ddc-93e2-8e3142ca7ed9"
      },
      "outputs": [
        {
          "data": {
            "text/plain": [
              "4"
            ]
          },
          "execution_count": 56,
          "metadata": {},
          "output_type": "execute_result"
        }
      ],
      "source": [
        "len(most_similar_path)"
      ]
    },
    {
      "cell_type": "code",
      "execution_count": 58,
      "metadata": {
        "colab": {
          "base_uri": "https://localhost:8080/"
        },
        "id": "tjOdiRCYm8tU",
        "outputId": "20b7d87a-5b29-4e46-e411-6dad426b89f5"
      },
      "outputs": [
        {
          "name": "stdout",
          "output_type": "stream",
          "text": [
            "('64111706', datetime.date(2022, 1, 8)) 0.8390337632522099\n",
            "('64111706', datetime.date(2022, 1, 10)) 0.8395095799193328\n",
            "('64111706', datetime.date(2022, 1, 13)) 0.8087361135779054\n",
            "('64111706', datetime.date(2022, 1, 12)) 0.8240384548552595\n"
          ]
        }
      ],
      "source": [
        "for item in most_similar_path:\n",
        "    print(item[0], item[1][1])"
      ]
    }
  ],
  "metadata": {
    "colab": {
      "provenance": []
    },
    "gpuClass": "standard",
    "kernelspec": {
      "display_name": "Python 3",
      "language": "python",
      "name": "python3"
    },
    "language_info": {
      "codemirror_mode": {
        "name": "ipython",
        "version": 3
      },
      "file_extension": ".py",
      "mimetype": "text/x-python",
      "name": "python",
      "nbconvert_exporter": "python",
      "pygments_lexer": "ipython3",
      "version": "3.7.12"
    },
    "vscode": {
      "interpreter": {
        "hash": "4b85476f8a8c66458125e4494b074b08682b86c1bead5e2a756dce2b0ce06c08"
      }
    }
  },
  "nbformat": 4,
  "nbformat_minor": 0
}
